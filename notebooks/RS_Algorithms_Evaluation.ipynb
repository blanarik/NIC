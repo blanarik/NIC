{
 "cells": [
  {
   "cell_type": "code",
   "execution_count": 1,
   "metadata": {},
   "outputs": [],
   "source": [
    "import pandas as pd\n",
    "import numpy as np\n",
    "import matplotlib.pyplot as plt\n",
    "from pylab import rcParams\n",
    "from ast import literal_eval\n",
    "%matplotlib inline"
   ]
  },
  {
   "cell_type": "code",
   "execution_count": 2,
   "metadata": {},
   "outputs": [],
   "source": [
    "# set default figsize\n",
    "plt.rcParams['figure.figsize'] = [12, 4]"
   ]
  },
  {
   "cell_type": "code",
   "execution_count": 3,
   "metadata": {},
   "outputs": [],
   "source": [
    "DATA_PATH = 'data/ustore/'"
   ]
  },
  {
   "cell_type": "markdown",
   "metadata": {},
   "source": [
    "## Prepare test data"
   ]
  },
  {
   "cell_type": "code",
   "execution_count": 9,
   "metadata": {},
   "outputs": [
    {
     "data": {
      "text/plain": [
       "user_id\n",
       "0                                              [15318]\n",
       "1    [42254, 43293, 53245, 63421, 65270, 65271, 84728]\n",
       "2                                [33085, 34405, 53820]\n",
       "3                                              [63192]\n",
       "4                                        [2851, 44271]\n",
       "Name: item_id, dtype: object"
      ]
     },
     "execution_count": 9,
     "metadata": {},
     "output_type": "execute_result"
    }
   ],
   "source": [
    "test = pd.read_csv(DATA_PATH+'raw/future.csv')\n",
    "test = test[test.user_eval_set=='test']\n",
    "test = test.groupby('user_id')['item_id'].apply(list)\n",
    "test.head()"
   ]
  },
  {
   "cell_type": "code",
   "execution_count": 12,
   "metadata": {},
   "outputs": [
    {
     "data": {
      "image/png": "[encoded data removed]",
      "text/plain": [
       "<Figure size 864x288 with 1 Axes>"
      ]
     },
     "metadata": {
      "needs_background": "light"
     },
     "output_type": "display_data"
    }
   ],
   "source": [
    "aux = test.apply(lambda x: len(x)).value_counts().sort_index()\n",
    "aux.plot(kind='bar')\n",
    "plt.xlim(-0.5, len(aux)-.5)\n",
    "plt.title('Distribution of users by relevant items (test set)')\n",
    "plt.xlabel('Number of relevant items')\n",
    "plt.ylabel('Users')\n",
    "plt.show()"
   ]
  },
  {
   "cell_type": "markdown",
   "metadata": {},
   "source": [
    "## Load recommendations"
   ]
  },
  {
   "cell_type": "code",
   "execution_count": 54,
   "metadata": {},
   "outputs": [],
   "source": [
    "alg_list = [\n",
    "    'popular',\n",
    "    'itemknn',\n",
    "    'userknn',\n",
    "    'als',\n",
    "    'bpr'\n",
    "]\n",
    "alg_rec = {}\n",
    "for alg in alg_list:\n",
    "    alg_rec[alg] = pd.read_csv(DATA_PATH+'predictions/' + alg + '.csv')\n",
    "    alg_rec[alg].set_index('user_id', inplace=True)"
   ]
  },
  {
   "cell_type": "markdown",
   "metadata": {},
   "source": [
    "## Evaluate"
   ]
  },
  {
   "cell_type": "code",
   "execution_count": 55,
   "metadata": {},
   "outputs": [
    {
     "name": "stdout",
     "output_type": "stream",
     "text": [
      "CPU times: user 35min 48s, sys: 4.64 s, total: 35min 53s\n",
      "Wall time: 35min 56s\n"
     ]
    }
   ],
   "source": [
    "%%time\n",
    "alg_perf = []\n",
    "for u in test.index.values:\n",
    "    \n",
    "    perf_p_at_10 = []\n",
    "    perf_r_at_10 = []\n",
    "    perf_rr_at_100 = []\n",
    "    perf_ndcg_at_100 = []\n",
    "    \n",
    "    for alg in alg_list:\n",
    "        rec_list_relevance = [1 if x in test[u] else 0 for x in literal_eval(alg_rec[alg].loc[u].top100)]\n",
    "        \n",
    "        # P@10\n",
    "        result = sum(rec_list_relevance[:10])/10\n",
    "        perf_p_at_10.append([result, alg])\n",
    "        \n",
    "        # R@10\n",
    "        result = sum(rec_list_relevance[:10])/len(test[u])\n",
    "        perf_r_at_10.append([result, alg])\n",
    "        \n",
    "        # RR@100\n",
    "        result = 0\n",
    "        if 1 in rec_list_relevance:\n",
    "            result = 1/(1+rec_list_relevance.index(1))\n",
    "        perf_rr_at_100.append([result, alg])\n",
    "        \n",
    "        # NDCG@100\n",
    "        dcg = 0\n",
    "        for i in range(len(rec_list_relevance)):\n",
    "            dcg += rec_list_relevance[i]/np.log2(2+i)        \n",
    "        idcg = 0\n",
    "        for i in range(len(test[u])):\n",
    "            idcg += 1/np.log2(2+i)\n",
    "        perf_ndcg_at_100.append([dcg/idcg, alg])\n",
    "        \n",
    "    perf_p_at_10.sort(reverse=True)\n",
    "    perf_r_at_10.sort(reverse=True)\n",
    "    perf_rr_at_100.sort(reverse=True)\n",
    "    perf_ndcg_at_100.sort(reverse=True)\n",
    "    alg_perf.append({\n",
    "        'user_id': u,\n",
    "        'P@10': perf_p_at_10,\n",
    "        'R@10': perf_r_at_10,\n",
    "        'RR@100': perf_rr_at_100,\n",
    "        'NDCG@100': perf_ndcg_at_100\n",
    "    })\n",
    "    \n",
    "perf = pd.DataFrame(alg_perf)"
   ]
  },
  {
   "cell_type": "code",
   "execution_count": 56,
   "metadata": {},
   "outputs": [],
   "source": [
    "perf.to_csv(DATA_PATH+'rs_performance.csv', index=False)"
   ]
  },
  {
   "cell_type": "markdown",
   "metadata": {},
   "source": [
    "## Performance analysis"
   ]
  },
  {
   "cell_type": "code",
   "execution_count": 57,
   "metadata": {},
   "outputs": [
    {
     "data": {
      "text/html": [
       "<div>\n",
       "<style scoped>\n",
       "    .dataframe tbody tr th:only-of-type {\n",
       "        vertical-align: middle;\n",
       "    }\n",
       "\n",
       "    .dataframe tbody tr th {\n",
       "        vertical-align: top;\n",
       "    }\n",
       "\n",
       "    .dataframe thead th {\n",
       "        text-align: right;\n",
       "    }\n",
       "</style>\n",
       "<table border=\"1\" class=\"dataframe\">\n",
       "  <thead>\n",
       "    <tr style=\"text-align: right;\">\n",
       "      <th></th>\n",
       "      <th>NDCG@100</th>\n",
       "      <th>P@10</th>\n",
       "      <th>R@10</th>\n",
       "      <th>RR@100</th>\n",
       "      <th>user_id</th>\n",
       "    </tr>\n",
       "  </thead>\n",
       "  <tbody>\n",
       "    <tr>\n",
       "      <th>0</th>\n",
       "      <td>[[0.0, userknn], [0.0, popular], [0.0, itemknn...</td>\n",
       "      <td>[[0.0, userknn], [0.0, popular], [0.0, itemknn...</td>\n",
       "      <td>[[0.0, userknn], [0.0, popular], [0.0, itemknn...</td>\n",
       "      <td>[[0, userknn], [0, popular], [0, itemknn], [0,...</td>\n",
       "      <td>0</td>\n",
       "    </tr>\n",
       "    <tr>\n",
       "      <th>1</th>\n",
       "      <td>[[0.11838279295536291, bpr], [0.05780921899607...</td>\n",
       "      <td>[[0.1, bpr], [0.0, userknn], [0.0, popular], [...</td>\n",
       "      <td>[[0.14285714285714285, bpr], [0.0, userknn], [...</td>\n",
       "      <td>[[0.25, bpr], [0.038461538461538464, als], [0,...</td>\n",
       "      <td>1</td>\n",
       "    </tr>\n",
       "    <tr>\n",
       "      <th>2</th>\n",
       "      <td>[[0.0, userknn], [0.0, popular], [0.0, itemknn...</td>\n",
       "      <td>[[0.0, userknn], [0.0, popular], [0.0, itemknn...</td>\n",
       "      <td>[[0.0, userknn], [0.0, popular], [0.0, itemknn...</td>\n",
       "      <td>[[0, userknn], [0, popular], [0, itemknn], [0,...</td>\n",
       "      <td>2</td>\n",
       "    </tr>\n",
       "    <tr>\n",
       "      <th>3</th>\n",
       "      <td>[[0.0, userknn], [0.0, popular], [0.0, itemknn...</td>\n",
       "      <td>[[0.0, userknn], [0.0, popular], [0.0, itemknn...</td>\n",
       "      <td>[[0.0, userknn], [0.0, popular], [0.0, itemknn...</td>\n",
       "      <td>[[0, userknn], [0, popular], [0, itemknn], [0,...</td>\n",
       "      <td>3</td>\n",
       "    </tr>\n",
       "    <tr>\n",
       "      <th>4</th>\n",
       "      <td>[[0.5802792108518124, userknn], [0.37007816335...</td>\n",
       "      <td>[[0.2, userknn], [0.1, bpr], [0.0, popular], [...</td>\n",
       "      <td>[[1.0, userknn], [0.5, bpr], [0.0, popular], [...</td>\n",
       "      <td>[[0.5, userknn], [0.14285714285714285, bpr], [...</td>\n",
       "      <td>4</td>\n",
       "    </tr>\n",
       "  </tbody>\n",
       "</table>\n",
       "</div>"
      ],
      "text/plain": [
       "                                            NDCG@100  \\\n",
       "0  [[0.0, userknn], [0.0, popular], [0.0, itemknn...   \n",
       "1  [[0.11838279295536291, bpr], [0.05780921899607...   \n",
       "2  [[0.0, userknn], [0.0, popular], [0.0, itemknn...   \n",
       "3  [[0.0, userknn], [0.0, popular], [0.0, itemknn...   \n",
       "4  [[0.5802792108518124, userknn], [0.37007816335...   \n",
       "\n",
       "                                                P@10  \\\n",
       "0  [[0.0, userknn], [0.0, popular], [0.0, itemknn...   \n",
       "1  [[0.1, bpr], [0.0, userknn], [0.0, popular], [...   \n",
       "2  [[0.0, userknn], [0.0, popular], [0.0, itemknn...   \n",
       "3  [[0.0, userknn], [0.0, popular], [0.0, itemknn...   \n",
       "4  [[0.2, userknn], [0.1, bpr], [0.0, popular], [...   \n",
       "\n",
       "                                                R@10  \\\n",
       "0  [[0.0, userknn], [0.0, popular], [0.0, itemknn...   \n",
       "1  [[0.14285714285714285, bpr], [0.0, userknn], [...   \n",
       "2  [[0.0, userknn], [0.0, popular], [0.0, itemknn...   \n",
       "3  [[0.0, userknn], [0.0, popular], [0.0, itemknn...   \n",
       "4  [[1.0, userknn], [0.5, bpr], [0.0, popular], [...   \n",
       "\n",
       "                                              RR@100  user_id  \n",
       "0  [[0, userknn], [0, popular], [0, itemknn], [0,...        0  \n",
       "1  [[0.25, bpr], [0.038461538461538464, als], [0,...        1  \n",
       "2  [[0, userknn], [0, popular], [0, itemknn], [0,...        2  \n",
       "3  [[0, userknn], [0, popular], [0, itemknn], [0,...        3  \n",
       "4  [[0.5, userknn], [0.14285714285714285, bpr], [...        4  "
      ]
     },
     "execution_count": 57,
     "metadata": {},
     "output_type": "execute_result"
    }
   ],
   "source": [
    "perf.head()"
   ]
  },
  {
   "cell_type": "markdown",
   "metadata": {},
   "source": [
    "### NDCG@100"
   ]
  },
  {
   "cell_type": "code",
   "execution_count": 58,
   "metadata": {},
   "outputs": [
    {
     "data": {
      "text/plain": [
       "24002"
      ]
     },
     "execution_count": 58,
     "metadata": {},
     "output_type": "execute_result"
    }
   ],
   "source": [
    "# how many users have optimal algorithm\n",
    "metric = 'NDCG@100'\n",
    "perf[metric].apply(lambda x: x[0][0] > 0).value_counts()[True]"
   ]
  },
  {
   "cell_type": "code",
   "execution_count": 59,
   "metadata": {},
   "outputs": [
    {
     "data": {
      "text/plain": [
       "[]"
      ]
     },
     "execution_count": 59,
     "metadata": {},
     "output_type": "execute_result"
    },
    {
     "data": {
      "image/png": "[encoded data removed]",
      "text/plain": [
       "<Figure size 864x288 with 1 Axes>"
      ]
     },
     "metadata": {
      "needs_background": "light"
     },
     "output_type": "display_data"
    }
   ],
   "source": [
    "ax = perf[perf[metric].apply(lambda x: x[0][0] > 0)][metric].apply(lambda x: x[0][1]).value_counts().plot(kind='bar')\n",
    "plt.title('Distribution of users by optimal algorithm (' + metric + ')')\n",
    "for p in ax.patches:\n",
    "    width, height = p.get_width(), p.get_height()\n",
    "    x, y = p.get_xy() \n",
    "    ax.annotate(str(height) + ' (' + str(int(round(100*height/perf[metric].apply(lambda x: x[0][0] > 0).value_counts()[True])))\n",
    "                + '%)', (x + width/2, y + height + 10.14), ha='center')\n",
    "plt.plot()"
   ]
  },
  {
   "cell_type": "code",
   "execution_count": 60,
   "metadata": {},
   "outputs": [
    {
     "data": {
      "text/plain": [
       "False    23327\n",
       "True       675\n",
       "Name: NDCG@100, dtype: int64"
      ]
     },
     "execution_count": 60,
     "metadata": {},
     "output_type": "execute_result"
    }
   ],
   "source": [
    "# how many users have multiple top performing algorithms (issue not considered in above chart)\n",
    "perf[perf[metric].apply(lambda x: x[0][0] > 0)][metric].apply(lambda x: x[0][0] == x[1][0]).value_counts()"
   ]
  },
  {
   "cell_type": "code",
   "execution_count": 61,
   "metadata": {
    "scrolled": false
   },
   "outputs": [
    {
     "data": {
      "text/html": [
       "<div>\n",
       "<style scoped>\n",
       "    .dataframe tbody tr th:only-of-type {\n",
       "        vertical-align: middle;\n",
       "    }\n",
       "\n",
       "    .dataframe tbody tr th {\n",
       "        vertical-align: top;\n",
       "    }\n",
       "\n",
       "    .dataframe thead th {\n",
       "        text-align: right;\n",
       "    }\n",
       "</style>\n",
       "<table border=\"1\" class=\"dataframe\">\n",
       "  <thead>\n",
       "    <tr style=\"text-align: right;\">\n",
       "      <th></th>\n",
       "      <th>algorithm</th>\n",
       "      <th>mean NDCG@100</th>\n",
       "      <th>nonzero count NDCG@100</th>\n",
       "    </tr>\n",
       "  </thead>\n",
       "  <tbody>\n",
       "    <tr>\n",
       "      <th>4</th>\n",
       "      <td>bpr</td>\n",
       "      <td>0.119100</td>\n",
       "      <td>12821</td>\n",
       "    </tr>\n",
       "    <tr>\n",
       "      <th>3</th>\n",
       "      <td>als</td>\n",
       "      <td>0.096038</td>\n",
       "      <td>12047</td>\n",
       "    </tr>\n",
       "    <tr>\n",
       "      <th>2</th>\n",
       "      <td>userknn</td>\n",
       "      <td>0.079299</td>\n",
       "      <td>11866</td>\n",
       "    </tr>\n",
       "    <tr>\n",
       "      <th>1</th>\n",
       "      <td>itemknn</td>\n",
       "      <td>0.064949</td>\n",
       "      <td>7726</td>\n",
       "    </tr>\n",
       "    <tr>\n",
       "      <th>0</th>\n",
       "      <td>popular</td>\n",
       "      <td>0.043314</td>\n",
       "      <td>9010</td>\n",
       "    </tr>\n",
       "  </tbody>\n",
       "</table>\n",
       "</div>"
      ],
      "text/plain": [
       "  algorithm  mean NDCG@100  nonzero count NDCG@100\n",
       "4       bpr       0.119100                   12821\n",
       "3       als       0.096038                   12047\n",
       "2   userknn       0.079299                   11866\n",
       "1   itemknn       0.064949                    7726\n",
       "0   popular       0.043314                    9010"
      ]
     },
     "execution_count": 61,
     "metadata": {},
     "output_type": "execute_result"
    }
   ],
   "source": [
    "# average performance of algorithms (only users with optimal algorithm)\n",
    "mean_perf = []\n",
    "for alg in alg_list:\n",
    "    mean_perf.append({\n",
    "        'algorithm': alg,\n",
    "        'mean '+metric: perf[perf[metric].apply(lambda x: x[0][0] > 0)][metric]\\\n",
    "                            .apply(lambda x: [a for a in x if a[1] == alg][0][0]).mean(),\n",
    "        'nonzero count '+metric: perf[perf[metric].apply(lambda x: x[0][0] > 0)][metric]\\\n",
    "                            .apply(lambda x: len([1 for a in x if a[0] > 0 and a[1] == alg])).sum()\n",
    "        })\n",
    "    \n",
    "pd.DataFrame(mean_perf).sort_values(by='mean '+metric, ascending=False)"
   ]
  },
  {
   "cell_type": "code",
   "execution_count": 62,
   "metadata": {
    "scrolled": false
   },
   "outputs": [
    {
     "data": {
      "text/html": [
       "<div>\n",
       "<style scoped>\n",
       "    .dataframe tbody tr th:only-of-type {\n",
       "        vertical-align: middle;\n",
       "    }\n",
       "\n",
       "    .dataframe tbody tr th {\n",
       "        vertical-align: top;\n",
       "    }\n",
       "\n",
       "    .dataframe thead th {\n",
       "        text-align: right;\n",
       "    }\n",
       "</style>\n",
       "<table border=\"1\" class=\"dataframe\">\n",
       "  <thead>\n",
       "    <tr style=\"text-align: right;\">\n",
       "      <th></th>\n",
       "      <th>algorithm</th>\n",
       "      <th>count of users with nonzero NDCG@100</th>\n",
       "      <th>mean NDCG@100 (all users)</th>\n",
       "      <th>mean NDCG@100 (users with ANY optimal alg)</th>\n",
       "      <th>mean NDCG@100 (users with THIS optimal alg)</th>\n",
       "    </tr>\n",
       "  </thead>\n",
       "  <tbody>\n",
       "    <tr>\n",
       "      <th>4</th>\n",
       "      <td>bpr</td>\n",
       "      <td>12821</td>\n",
       "      <td>0.033567</td>\n",
       "      <td>0.119100</td>\n",
       "      <td>0.252545</td>\n",
       "    </tr>\n",
       "    <tr>\n",
       "      <th>3</th>\n",
       "      <td>als</td>\n",
       "      <td>12047</td>\n",
       "      <td>0.027068</td>\n",
       "      <td>0.096038</td>\n",
       "      <td>0.202794</td>\n",
       "    </tr>\n",
       "    <tr>\n",
       "      <th>2</th>\n",
       "      <td>userknn</td>\n",
       "      <td>11866</td>\n",
       "      <td>0.022350</td>\n",
       "      <td>0.079299</td>\n",
       "      <td>0.200930</td>\n",
       "    </tr>\n",
       "    <tr>\n",
       "      <th>1</th>\n",
       "      <td>itemknn</td>\n",
       "      <td>7726</td>\n",
       "      <td>0.018305</td>\n",
       "      <td>0.064949</td>\n",
       "      <td>0.315913</td>\n",
       "    </tr>\n",
       "    <tr>\n",
       "      <th>0</th>\n",
       "      <td>popular</td>\n",
       "      <td>9010</td>\n",
       "      <td>0.012208</td>\n",
       "      <td>0.043314</td>\n",
       "      <td>0.128423</td>\n",
       "    </tr>\n",
       "  </tbody>\n",
       "</table>\n",
       "</div>"
      ],
      "text/plain": [
       "  algorithm  count of users with nonzero NDCG@100  mean NDCG@100 (all users)  \\\n",
       "4       bpr                                 12821                   0.033567   \n",
       "3       als                                 12047                   0.027068   \n",
       "2   userknn                                 11866                   0.022350   \n",
       "1   itemknn                                  7726                   0.018305   \n",
       "0   popular                                  9010                   0.012208   \n",
       "\n",
       "   mean NDCG@100 (users with ANY optimal alg)  \\\n",
       "4                                    0.119100   \n",
       "3                                    0.096038   \n",
       "2                                    0.079299   \n",
       "1                                    0.064949   \n",
       "0                                    0.043314   \n",
       "\n",
       "   mean NDCG@100 (users with THIS optimal alg)  \n",
       "4                                     0.252545  \n",
       "3                                     0.202794  \n",
       "2                                     0.200930  \n",
       "1                                     0.315913  \n",
       "0                                     0.128423  "
      ]
     },
     "execution_count": 62,
     "metadata": {},
     "output_type": "execute_result"
    }
   ],
   "source": [
    "# average performance of algorithms (only users with optimal algorithm)\n",
    "mean_perf = []\n",
    "for alg in alg_list:\n",
    "    mean_perf.append({\n",
    "        'algorithm': alg,\n",
    "        'count of users with nonzero '+metric: perf[perf[metric].apply(lambda x: x[0][0] > 0)][metric]\\\n",
    "                    .apply(lambda x: len([1 for a in x if a[0] > 0 and a[1] == alg])).sum(),\n",
    "        'mean '+metric+' (users with THIS optimal alg)': perf[perf[metric]\\\n",
    "                    .apply(lambda x: x[0][0] > 0 and x[0][1] == alg)][metric].apply(lambda x: x[0][0]).mean(),\n",
    "        'mean '+metric+' (users with ANY optimal alg)': perf[perf[metric].apply(lambda x: x[0][0] > 0)][metric]\\\n",
    "                    .apply(lambda x: [a for a in x if a[1] == alg][0][0]).mean(),\n",
    "        'mean '+metric+' (all users)': perf[metric]\\\n",
    "                    .apply(lambda x: [a for a in x if a[1] == alg][0][0]).mean()\n",
    "        })\n",
    "    \n",
    "mean_perf = pd.DataFrame(mean_perf).sort_values(by='mean '+metric+' (all users)', ascending=False)\n",
    "mean_perf"
   ]
  },
  {
   "cell_type": "code",
   "execution_count": 63,
   "metadata": {},
   "outputs": [
    {
     "name": "stdout",
     "output_type": "stream",
     "text": [
      "Users with ANY optimal alg - mean NDCG@100 :\n",
      "---------------------------------------------------------------\n",
      "Teoretical maximum that can be achieved with perfect classifier: 0.2057254512092359\n",
      "Baseline - best single algorithm:  0.11909962770827906\n",
      "Possible relative improvement:  72.73 %\n"
     ]
    }
   ],
   "source": [
    "print('Users with ANY optimal alg - mean', metric, ':')\n",
    "print('---------------------------------------------------------------')\n",
    "\n",
    "print('Teoretical maximum that can be achieved with perfect classifier:',\n",
    "    perf[perf[metric].apply(lambda x: x[0][0] > 0)][metric].apply(lambda x: x[0][0]).mean())\n",
    "\n",
    "print('Baseline - best single algorithm: ',\n",
    "      mean_perf['mean '+metric+' (users with ANY optimal alg)'].max())\n",
    "\n",
    "print('Possible relative improvement: ', round(100 * perf[perf[metric].apply(lambda x: x[0][0] > 0)][metric].apply(lambda x: x[0][0]).mean()\n",
    "      / mean_perf['mean '+metric+' (users with ANY optimal alg)'].max() -100, 2), '%')"
   ]
  },
  {
   "cell_type": "code",
   "execution_count": 64,
   "metadata": {},
   "outputs": [
    {
     "name": "stdout",
     "output_type": "stream",
     "text": [
      "All users - mean NDCG@100 :\n",
      "---------------------------------------------------------------\n",
      "Teoretical maximum that can be achieved with perfect classifier: 0.05798220171115981\n",
      "Baseline - best single algorithm:  0.03356735200683545\n",
      "Possible relative improvement:  72.73 %\n"
     ]
    }
   ],
   "source": [
    "print('All users - mean', metric, ':')\n",
    "print('---------------------------------------------------------------')\n",
    "\n",
    "print('Teoretical maximum that can be achieved with perfect classifier:',\n",
    "    perf[metric].apply(lambda x: x[0][0]).mean())\n",
    "\n",
    "print('Baseline - best single algorithm: ',\n",
    "      mean_perf['mean '+metric+' (all users)'].max())\n",
    "\n",
    "print('Possible relative improvement: ', round(100 * perf[metric].apply(lambda x: x[0][0]).mean()\n",
    "      / mean_perf['mean '+metric+' (all users)'].max() -100, 2), '%')"
   ]
  },
  {
   "cell_type": "markdown",
   "metadata": {},
   "source": [
    "### MRR@100"
   ]
  },
  {
   "cell_type": "code",
   "execution_count": 65,
   "metadata": {},
   "outputs": [
    {
     "data": {
      "text/plain": [
       "24002"
      ]
     },
     "execution_count": 65,
     "metadata": {},
     "output_type": "execute_result"
    }
   ],
   "source": [
    "# how many users have optimal algorithm\n",
    "metric = 'RR@100'\n",
    "perf[metric].apply(lambda x: x[0][0] > 0).value_counts()[True]"
   ]
  },
  {
   "cell_type": "code",
   "execution_count": 66,
   "metadata": {},
   "outputs": [
    {
     "data": {
      "text/plain": [
       "[]"
      ]
     },
     "execution_count": 66,
     "metadata": {},
     "output_type": "execute_result"
    },
    {
     "data": {
      "image/png": "[encoded data removed]",
      "text/plain": [
       "<Figure size 864x288 with 1 Axes>"
      ]
     },
     "metadata": {
      "needs_background": "light"
     },
     "output_type": "display_data"
    }
   ],
   "source": [
    "ax = perf[perf[metric].apply(lambda x: x[0][0] > 0)][metric].apply(lambda x: x[0][1]).value_counts().plot(kind='bar')\n",
    "plt.title('Distribution of users by optimal algorithm (' + metric + ')')\n",
    "for p in ax.patches:\n",
    "    width, height = p.get_width(), p.get_height()\n",
    "    x, y = p.get_xy() \n",
    "    ax.annotate(str(height) + ' (' + str(int(round(100*height/perf[metric].apply(lambda x: x[0][0] > 0).value_counts()[True])))\n",
    "                + '%)', (x + width/2, y + height + 10.14), ha='center')\n",
    "plt.plot()"
   ]
  },
  {
   "cell_type": "code",
   "execution_count": 67,
   "metadata": {},
   "outputs": [
    {
     "data": {
      "text/plain": [
       "False    22450\n",
       "True      1552\n",
       "Name: RR@100, dtype: int64"
      ]
     },
     "execution_count": 67,
     "metadata": {},
     "output_type": "execute_result"
    }
   ],
   "source": [
    "# how many users have multiple top performing algorithms (issue not considered in above chart)\n",
    "perf[perf[metric].apply(lambda x: x[0][0] > 0)][metric].apply(lambda x: x[0][0] == x[1][0]).value_counts()"
   ]
  },
  {
   "cell_type": "code",
   "execution_count": 68,
   "metadata": {
    "scrolled": false
   },
   "outputs": [
    {
     "data": {
      "text/html": [
       "<div>\n",
       "<style scoped>\n",
       "    .dataframe tbody tr th:only-of-type {\n",
       "        vertical-align: middle;\n",
       "    }\n",
       "\n",
       "    .dataframe tbody tr th {\n",
       "        vertical-align: top;\n",
       "    }\n",
       "\n",
       "    .dataframe thead th {\n",
       "        text-align: right;\n",
       "    }\n",
       "</style>\n",
       "<table border=\"1\" class=\"dataframe\">\n",
       "  <thead>\n",
       "    <tr style=\"text-align: right;\">\n",
       "      <th></th>\n",
       "      <th>algorithm</th>\n",
       "      <th>count of users with nonzero RR@100</th>\n",
       "      <th>mean RR@100 (all users)</th>\n",
       "      <th>mean RR@100 (users with ANY optimal alg)</th>\n",
       "      <th>mean RR@100 (users with THIS optimal alg)</th>\n",
       "    </tr>\n",
       "  </thead>\n",
       "  <tbody>\n",
       "    <tr>\n",
       "      <th>4</th>\n",
       "      <td>bpr</td>\n",
       "      <td>12821</td>\n",
       "      <td>0.032858</td>\n",
       "      <td>0.116581</td>\n",
       "      <td>0.280364</td>\n",
       "    </tr>\n",
       "    <tr>\n",
       "      <th>3</th>\n",
       "      <td>als</td>\n",
       "      <td>12047</td>\n",
       "      <td>0.029124</td>\n",
       "      <td>0.103334</td>\n",
       "      <td>0.225516</td>\n",
       "    </tr>\n",
       "    <tr>\n",
       "      <th>2</th>\n",
       "      <td>userknn</td>\n",
       "      <td>11866</td>\n",
       "      <td>0.018421</td>\n",
       "      <td>0.065358</td>\n",
       "      <td>0.251922</td>\n",
       "    </tr>\n",
       "    <tr>\n",
       "      <th>1</th>\n",
       "      <td>itemknn</td>\n",
       "      <td>7726</td>\n",
       "      <td>0.018234</td>\n",
       "      <td>0.064695</td>\n",
       "      <td>0.422418</td>\n",
       "    </tr>\n",
       "    <tr>\n",
       "      <th>0</th>\n",
       "      <td>popular</td>\n",
       "      <td>9010</td>\n",
       "      <td>0.010306</td>\n",
       "      <td>0.036565</td>\n",
       "      <td>0.114699</td>\n",
       "    </tr>\n",
       "  </tbody>\n",
       "</table>\n",
       "</div>"
      ],
      "text/plain": [
       "  algorithm  count of users with nonzero RR@100  mean RR@100 (all users)  \\\n",
       "4       bpr                               12821                 0.032858   \n",
       "3       als                               12047                 0.029124   \n",
       "2   userknn                               11866                 0.018421   \n",
       "1   itemknn                                7726                 0.018234   \n",
       "0   popular                                9010                 0.010306   \n",
       "\n",
       "   mean RR@100 (users with ANY optimal alg)  \\\n",
       "4                                  0.116581   \n",
       "3                                  0.103334   \n",
       "2                                  0.065358   \n",
       "1                                  0.064695   \n",
       "0                                  0.036565   \n",
       "\n",
       "   mean RR@100 (users with THIS optimal alg)  \n",
       "4                                   0.280364  \n",
       "3                                   0.225516  \n",
       "2                                   0.251922  \n",
       "1                                   0.422418  \n",
       "0                                   0.114699  "
      ]
     },
     "execution_count": 68,
     "metadata": {},
     "output_type": "execute_result"
    }
   ],
   "source": [
    "# average performance of algorithms (only users with optimal algorithm)\n",
    "mean_perf = []\n",
    "for alg in alg_list:\n",
    "    mean_perf.append({\n",
    "        'algorithm': alg,\n",
    "        'count of users with nonzero '+metric: perf[perf[metric].apply(lambda x: x[0][0] > 0)][metric]\\\n",
    "                    .apply(lambda x: len([1 for a in x if a[0] > 0 and a[1] == alg])).sum(),\n",
    "        'mean '+metric+' (users with THIS optimal alg)': perf[perf[metric]\\\n",
    "                    .apply(lambda x: x[0][0] > 0 and x[0][1] == alg)][metric].apply(lambda x: x[0][0]).mean(),\n",
    "        'mean '+metric+' (users with ANY optimal alg)': perf[perf[metric].apply(lambda x: x[0][0] > 0)][metric]\\\n",
    "                    .apply(lambda x: [a for a in x if a[1] == alg][0][0]).mean(),\n",
    "        'mean '+metric+' (all users)': perf[metric]\\\n",
    "                    .apply(lambda x: [a for a in x if a[1] == alg][0][0]).mean()\n",
    "        })\n",
    "    \n",
    "mean_perf = pd.DataFrame(mean_perf).sort_values(by='mean '+metric+' (all users)', ascending=False)\n",
    "mean_perf"
   ]
  },
  {
   "cell_type": "code",
   "execution_count": 69,
   "metadata": {},
   "outputs": [
    {
     "name": "stdout",
     "output_type": "stream",
     "text": [
      "Users with ANY optimal alg - mean RR@100 :\n",
      "---------------------------------------------------------------\n",
      "Teoretical maximum that can be achieved with perfect classifier: 0.23285805412140517\n",
      "Baseline - best single algorithm:  0.11658138027317756\n",
      "Possible relative improvement:  99.74 %\n"
     ]
    }
   ],
   "source": [
    "print('Users with ANY optimal alg - mean', metric, ':')\n",
    "print('---------------------------------------------------------------')\n",
    "\n",
    "print('Teoretical maximum that can be achieved with perfect classifier:',\n",
    "    perf[perf[metric].apply(lambda x: x[0][0] > 0)][metric].apply(lambda x: x[0][0]).mean())\n",
    "\n",
    "print('Baseline - best single algorithm: ',\n",
    "      mean_perf['mean '+metric+' (users with ANY optimal alg)'].max())\n",
    "\n",
    "print('Possible relative improvement: ', round(100 * perf[perf[metric].apply(lambda x: x[0][0] > 0)][metric].apply(lambda x: x[0][0]).mean()\n",
    "      / mean_perf['mean '+metric+' (users with ANY optimal alg)'].max() -100, 2), '%')"
   ]
  },
  {
   "cell_type": "code",
   "execution_count": 70,
   "metadata": {},
   "outputs": [
    {
     "name": "stdout",
     "output_type": "stream",
     "text": [
      "All users - mean RR@100 :\n",
      "---------------------------------------------------------------\n",
      "Teoretical maximum that can be achieved with perfect classifier: 0.06562932580667168\n",
      "Baseline - best single algorithm:  0.032857602533046905\n",
      "Possible relative improvement:  99.74 %\n"
     ]
    }
   ],
   "source": [
    "print('All users - mean', metric, ':')\n",
    "print('---------------------------------------------------------------')\n",
    "\n",
    "print('Teoretical maximum that can be achieved with perfect classifier:',\n",
    "    perf[metric].apply(lambda x: x[0][0]).mean())\n",
    "\n",
    "print('Baseline - best single algorithm: ',\n",
    "      mean_perf['mean '+metric+' (all users)'].max())\n",
    "\n",
    "print('Possible relative improvement: ', round(100 * perf[metric].apply(lambda x: x[0][0]).mean()\n",
    "      / mean_perf['mean '+metric+' (all users)'].max() -100, 2), '%')"
   ]
  },
  {
   "cell_type": "markdown",
   "metadata": {},
   "source": [
    "### P@10"
   ]
  },
  {
   "cell_type": "code",
   "execution_count": 71,
   "metadata": {},
   "outputs": [
    {
     "data": {
      "text/plain": [
       "10509"
      ]
     },
     "execution_count": 71,
     "metadata": {},
     "output_type": "execute_result"
    }
   ],
   "source": [
    "# how many users have optimal algorithm\n",
    "metric = 'P@10'\n",
    "perf[metric].apply(lambda x: x[0][0] > 0).value_counts()[True]"
   ]
  },
  {
   "cell_type": "code",
   "execution_count": 72,
   "metadata": {},
   "outputs": [
    {
     "data": {
      "text/plain": [
       "[]"
      ]
     },
     "execution_count": 72,
     "metadata": {},
     "output_type": "execute_result"
    },
    {
     "data": {
      "image/png": "[encoded data removed]",
      "text/plain": [
       "<Figure size 864x288 with 1 Axes>"
      ]
     },
     "metadata": {
      "needs_background": "light"
     },
     "output_type": "display_data"
    }
   ],
   "source": [
    "ax = perf[perf[metric].apply(lambda x: x[0][0] > 0)][metric].apply(lambda x: x[0][1]).value_counts().plot(kind='bar')\n",
    "plt.title('Distribution of users by optimal algorithm (' + metric + ')')\n",
    "for p in ax.patches:\n",
    "    width, height = p.get_width(), p.get_height()\n",
    "    x, y = p.get_xy() \n",
    "    ax.annotate(str(height) + ' (' + str(int(round(100*height/perf[metric].apply(lambda x: x[0][0] > 0).value_counts()[True])))\n",
    "                + '%)', (x + width/2, y + height + 3.14), ha='center')\n",
    "plt.plot()"
   ]
  },
  {
   "cell_type": "code",
   "execution_count": 73,
   "metadata": {},
   "outputs": [
    {
     "data": {
      "text/plain": [
       "False    6461\n",
       "True     4048\n",
       "Name: P@10, dtype: int64"
      ]
     },
     "execution_count": 73,
     "metadata": {},
     "output_type": "execute_result"
    }
   ],
   "source": [
    "# how many users have multiple top performing algorithms (issue not considered in above chart)\n",
    "perf[perf[metric].apply(lambda x: x[0][0] > 0)][metric].apply(lambda x: x[0][0] == x[1][0]).value_counts()"
   ]
  },
  {
   "cell_type": "code",
   "execution_count": 74,
   "metadata": {
    "scrolled": false
   },
   "outputs": [
    {
     "data": {
      "text/html": [
       "<div>\n",
       "<style scoped>\n",
       "    .dataframe tbody tr th:only-of-type {\n",
       "        vertical-align: middle;\n",
       "    }\n",
       "\n",
       "    .dataframe tbody tr th {\n",
       "        vertical-align: top;\n",
       "    }\n",
       "\n",
       "    .dataframe thead th {\n",
       "        text-align: right;\n",
       "    }\n",
       "</style>\n",
       "<table border=\"1\" class=\"dataframe\">\n",
       "  <thead>\n",
       "    <tr style=\"text-align: right;\">\n",
       "      <th></th>\n",
       "      <th>algorithm</th>\n",
       "      <th>count of users with nonzero P@10</th>\n",
       "      <th>mean P@10 (all users)</th>\n",
       "      <th>mean P@10 (users with ANY optimal alg)</th>\n",
       "      <th>mean P@10 (users with THIS optimal alg)</th>\n",
       "    </tr>\n",
       "  </thead>\n",
       "  <tbody>\n",
       "    <tr>\n",
       "      <th>4</th>\n",
       "      <td>bpr</td>\n",
       "      <td>5616</td>\n",
       "      <td>0.008540</td>\n",
       "      <td>0.069207</td>\n",
       "      <td>0.143493</td>\n",
       "    </tr>\n",
       "    <tr>\n",
       "      <th>3</th>\n",
       "      <td>als</td>\n",
       "      <td>5039</td>\n",
       "      <td>0.007579</td>\n",
       "      <td>0.061414</td>\n",
       "      <td>0.140886</td>\n",
       "    </tr>\n",
       "    <tr>\n",
       "      <th>2</th>\n",
       "      <td>userknn</td>\n",
       "      <td>3580</td>\n",
       "      <td>0.004847</td>\n",
       "      <td>0.039281</td>\n",
       "      <td>0.114093</td>\n",
       "    </tr>\n",
       "    <tr>\n",
       "      <th>1</th>\n",
       "      <td>itemknn</td>\n",
       "      <td>2943</td>\n",
       "      <td>0.004185</td>\n",
       "      <td>0.033914</td>\n",
       "      <td>0.129241</td>\n",
       "    </tr>\n",
       "    <tr>\n",
       "      <th>0</th>\n",
       "      <td>popular</td>\n",
       "      <td>2128</td>\n",
       "      <td>0.002716</td>\n",
       "      <td>0.022010</td>\n",
       "      <td>0.109805</td>\n",
       "    </tr>\n",
       "  </tbody>\n",
       "</table>\n",
       "</div>"
      ],
      "text/plain": [
       "  algorithm  count of users with nonzero P@10  mean P@10 (all users)  \\\n",
       "4       bpr                              5616               0.008540   \n",
       "3       als                              5039               0.007579   \n",
       "2   userknn                              3580               0.004847   \n",
       "1   itemknn                              2943               0.004185   \n",
       "0   popular                              2128               0.002716   \n",
       "\n",
       "   mean P@10 (users with ANY optimal alg)  \\\n",
       "4                                0.069207   \n",
       "3                                0.061414   \n",
       "2                                0.039281   \n",
       "1                                0.033914   \n",
       "0                                0.022010   \n",
       "\n",
       "   mean P@10 (users with THIS optimal alg)  \n",
       "4                                 0.143493  \n",
       "3                                 0.140886  \n",
       "2                                 0.114093  \n",
       "1                                 0.129241  \n",
       "0                                 0.109805  "
      ]
     },
     "execution_count": 74,
     "metadata": {},
     "output_type": "execute_result"
    }
   ],
   "source": [
    "# average performance of algorithms (only users with optimal algorithm)\n",
    "mean_perf = []\n",
    "for alg in alg_list:\n",
    "    mean_perf.append({\n",
    "        'algorithm': alg,\n",
    "        'count of users with nonzero '+metric: perf[perf[metric].apply(lambda x: x[0][0] > 0)][metric]\\\n",
    "                    .apply(lambda x: len([1 for a in x if a[0] > 0 and a[1] == alg])).sum(),\n",
    "        'mean '+metric+' (users with THIS optimal alg)': perf[perf[metric]\\\n",
    "                    .apply(lambda x: x[0][0] > 0 and x[0][1] == alg)][metric].apply(lambda x: x[0][0]).mean(),\n",
    "        'mean '+metric+' (users with ANY optimal alg)': perf[perf[metric].apply(lambda x: x[0][0] > 0)][metric]\\\n",
    "                    .apply(lambda x: [a for a in x if a[1] == alg][0][0]).mean(),\n",
    "        'mean '+metric+' (all users)': perf[metric]\\\n",
    "                    .apply(lambda x: [a for a in x if a[1] == alg][0][0]).mean()\n",
    "        })\n",
    "    \n",
    "mean_perf = pd.DataFrame(mean_perf).sort_values(by='mean '+metric+' (all users)', ascending=False)\n",
    "mean_perf"
   ]
  },
  {
   "cell_type": "code",
   "execution_count": 75,
   "metadata": {},
   "outputs": [
    {
     "name": "stdout",
     "output_type": "stream",
     "text": [
      "Users with ANY optimal alg - mean P@10 :\n",
      "---------------------------------------------------------------\n",
      "Teoretical maximum that can be achieved with perfect classifier: 0.12738605005233217\n",
      "Baseline - best single algorithm:  0.06920734608431478\n",
      "Possible relative improvement:  84.06 %\n"
     ]
    }
   ],
   "source": [
    "print('Users with ANY optimal alg - mean', metric, ':')\n",
    "print('---------------------------------------------------------------')\n",
    "\n",
    "print('Teoretical maximum that can be achieved with perfect classifier:',\n",
    "    perf[perf[metric].apply(lambda x: x[0][0] > 0)][metric].apply(lambda x: x[0][0]).mean())\n",
    "\n",
    "print('Baseline - best single algorithm: ',\n",
    "      mean_perf['mean '+metric+' (users with ANY optimal alg)'].max())\n",
    "\n",
    "print('Possible relative improvement: ', round(100 * perf[perf[metric].apply(lambda x: x[0][0] > 0)][metric].apply(lambda x: x[0][0]).mean()\n",
    "      / mean_perf['mean '+metric+' (users with ANY optimal alg)'].max() -100, 2), '%')"
   ]
  },
  {
   "cell_type": "code",
   "execution_count": 76,
   "metadata": {},
   "outputs": [
    {
     "name": "stdout",
     "output_type": "stream",
     "text": [
      "All users - mean P@10 :\n",
      "---------------------------------------------------------------\n",
      "Teoretical maximum that can be achieved with perfect classifier: 0.015719636923004175\n",
      "Baseline - best single algorithm:  0.008540294266155447\n",
      "Possible relative improvement:  84.06 %\n"
     ]
    }
   ],
   "source": [
    "print('All users - mean', metric, ':')\n",
    "print('---------------------------------------------------------------')\n",
    "\n",
    "print('Teoretical maximum that can be achieved with perfect classifier:',\n",
    "    perf[metric].apply(lambda x: x[0][0]).mean())\n",
    "\n",
    "print('Baseline - best single algorithm: ',\n",
    "      mean_perf['mean '+metric+' (all users)'].max())\n",
    "\n",
    "print('Possible relative improvement: ', round(100 * perf[metric].apply(lambda x: x[0][0]).mean()\n",
    "      / mean_perf['mean '+metric+' (all users)'].max() -100, 2), '%')"
   ]
  },
  {
   "cell_type": "markdown",
   "metadata": {},
   "source": [
    "### R@10"
   ]
  },
  {
   "cell_type": "code",
   "execution_count": 77,
   "metadata": {},
   "outputs": [
    {
     "data": {
      "text/plain": [
       "10509"
      ]
     },
     "execution_count": 77,
     "metadata": {},
     "output_type": "execute_result"
    }
   ],
   "source": [
    "# how many users have optimal algorithm\n",
    "metric = 'R@10'\n",
    "perf[metric].apply(lambda x: x[0][0] > 0).value_counts()[True]"
   ]
  },
  {
   "cell_type": "code",
   "execution_count": 78,
   "metadata": {},
   "outputs": [
    {
     "data": {
      "text/plain": [
       "[]"
      ]
     },
     "execution_count": 78,
     "metadata": {},
     "output_type": "execute_result"
    },
    {
     "data": {
      "image/png": "[encoded data removed]",
      "text/plain": [
       "<Figure size 864x288 with 1 Axes>"
      ]
     },
     "metadata": {
      "needs_background": "light"
     },
     "output_type": "display_data"
    }
   ],
   "source": [
    "ax = perf[perf[metric].apply(lambda x: x[0][0] > 0)][metric].apply(lambda x: x[0][1]).value_counts().plot(kind='bar')\n",
    "plt.title('Distribution of users by optimal algorithm (' + metric + ')')\n",
    "for p in ax.patches:\n",
    "    width, height = p.get_width(), p.get_height()\n",
    "    x, y = p.get_xy() \n",
    "    ax.annotate(str(height) + ' (' + str(int(round(100*height/perf[metric].apply(lambda x: x[0][0] > 0).value_counts()[True])))\n",
    "                + '%)', (x + width/2, y + height + 3.14), ha='center')\n",
    "plt.plot()"
   ]
  },
  {
   "cell_type": "code",
   "execution_count": 79,
   "metadata": {},
   "outputs": [
    {
     "data": {
      "text/plain": [
       "False    6461\n",
       "True     4048\n",
       "Name: R@10, dtype: int64"
      ]
     },
     "execution_count": 79,
     "metadata": {},
     "output_type": "execute_result"
    }
   ],
   "source": [
    "# how many users have multiple top performing algorithms (issue not considered in above chart)\n",
    "perf[perf[metric].apply(lambda x: x[0][0] > 0)][metric].apply(lambda x: x[0][0] == x[1][0]).value_counts()"
   ]
  },
  {
   "cell_type": "code",
   "execution_count": 80,
   "metadata": {
    "scrolled": false
   },
   "outputs": [
    {
     "data": {
      "text/html": [
       "<div>\n",
       "<style scoped>\n",
       "    .dataframe tbody tr th:only-of-type {\n",
       "        vertical-align: middle;\n",
       "    }\n",
       "\n",
       "    .dataframe tbody tr th {\n",
       "        vertical-align: top;\n",
       "    }\n",
       "\n",
       "    .dataframe thead th {\n",
       "        text-align: right;\n",
       "    }\n",
       "</style>\n",
       "<table border=\"1\" class=\"dataframe\">\n",
       "  <thead>\n",
       "    <tr style=\"text-align: right;\">\n",
       "      <th></th>\n",
       "      <th>algorithm</th>\n",
       "      <th>count of users with nonzero R@10</th>\n",
       "      <th>mean R@10 (all users)</th>\n",
       "      <th>mean R@10 (users with ANY optimal alg)</th>\n",
       "      <th>mean R@10 (users with THIS optimal alg)</th>\n",
       "    </tr>\n",
       "  </thead>\n",
       "  <tbody>\n",
       "    <tr>\n",
       "      <th>4</th>\n",
       "      <td>bpr</td>\n",
       "      <td>5616</td>\n",
       "      <td>0.028213</td>\n",
       "      <td>0.228627</td>\n",
       "      <td>0.411488</td>\n",
       "    </tr>\n",
       "    <tr>\n",
       "      <th>3</th>\n",
       "      <td>als</td>\n",
       "      <td>5039</td>\n",
       "      <td>0.022378</td>\n",
       "      <td>0.181341</td>\n",
       "      <td>0.340328</td>\n",
       "    </tr>\n",
       "    <tr>\n",
       "      <th>2</th>\n",
       "      <td>userknn</td>\n",
       "      <td>3580</td>\n",
       "      <td>0.016172</td>\n",
       "      <td>0.131054</td>\n",
       "      <td>0.432940</td>\n",
       "    </tr>\n",
       "    <tr>\n",
       "      <th>1</th>\n",
       "      <td>itemknn</td>\n",
       "      <td>2943</td>\n",
       "      <td>0.015584</td>\n",
       "      <td>0.126287</td>\n",
       "      <td>0.476425</td>\n",
       "    </tr>\n",
       "    <tr>\n",
       "      <th>0</th>\n",
       "      <td>popular</td>\n",
       "      <td>2128</td>\n",
       "      <td>0.008065</td>\n",
       "      <td>0.065356</td>\n",
       "      <td>0.328206</td>\n",
       "    </tr>\n",
       "  </tbody>\n",
       "</table>\n",
       "</div>"
      ],
      "text/plain": [
       "  algorithm  count of users with nonzero R@10  mean R@10 (all users)  \\\n",
       "4       bpr                              5616               0.028213   \n",
       "3       als                              5039               0.022378   \n",
       "2   userknn                              3580               0.016172   \n",
       "1   itemknn                              2943               0.015584   \n",
       "0   popular                              2128               0.008065   \n",
       "\n",
       "   mean R@10 (users with ANY optimal alg)  \\\n",
       "4                                0.228627   \n",
       "3                                0.181341   \n",
       "2                                0.131054   \n",
       "1                                0.126287   \n",
       "0                                0.065356   \n",
       "\n",
       "   mean R@10 (users with THIS optimal alg)  \n",
       "4                                 0.411488  \n",
       "3                                 0.340328  \n",
       "2                                 0.432940  \n",
       "1                                 0.476425  \n",
       "0                                 0.328206  "
      ]
     },
     "execution_count": 80,
     "metadata": {},
     "output_type": "execute_result"
    }
   ],
   "source": [
    "# average performance of algorithms (only users with optimal algorithm)\n",
    "mean_perf = []\n",
    "for alg in alg_list:\n",
    "    mean_perf.append({\n",
    "        'algorithm': alg,\n",
    "        'count of users with nonzero '+metric: perf[perf[metric].apply(lambda x: x[0][0] > 0)][metric]\\\n",
    "                    .apply(lambda x: len([1 for a in x if a[0] > 0 and a[1] == alg])).sum(),\n",
    "        'mean '+metric+' (users with THIS optimal alg)': perf[perf[metric]\\\n",
    "                    .apply(lambda x: x[0][0] > 0 and x[0][1] == alg)][metric].apply(lambda x: x[0][0]).mean(),\n",
    "        'mean '+metric+' (users with ANY optimal alg)': perf[perf[metric].apply(lambda x: x[0][0] > 0)][metric]\\\n",
    "                    .apply(lambda x: [a for a in x if a[1] == alg][0][0]).mean(),\n",
    "        'mean '+metric+' (all users)': perf[metric]\\\n",
    "                    .apply(lambda x: [a for a in x if a[1] == alg][0][0]).mean()\n",
    "        })\n",
    "    \n",
    "mean_perf = pd.DataFrame(mean_perf).sort_values(by='mean '+metric+' (all users)', ascending=False)\n",
    "mean_perf"
   ]
  },
  {
   "cell_type": "code",
   "execution_count": 81,
   "metadata": {},
   "outputs": [
    {
     "name": "stdout",
     "output_type": "stream",
     "text": [
      "Users with ANY optimal alg - mean R@10 :\n",
      "---------------------------------------------------------------\n",
      "Teoretical maximum that can be achieved with perfect classifier: 0.40043618157389355\n",
      "Baseline - best single algorithm:  0.22862666207505908\n",
      "Possible relative improvement:  75.15 %\n"
     ]
    }
   ],
   "source": [
    "print('Users with ANY optimal alg - mean', metric, ':')\n",
    "print('---------------------------------------------------------------')\n",
    "\n",
    "print('Teoretical maximum that can be achieved with perfect classifier:',\n",
    "    perf[perf[metric].apply(lambda x: x[0][0] > 0)][metric].apply(lambda x: x[0][0]).mean())\n",
    "\n",
    "print('Baseline - best single algorithm: ',\n",
    "      mean_perf['mean '+metric+' (users with ANY optimal alg)'].max())\n",
    "\n",
    "print('Possible relative improvement: ', round(100 * perf[perf[metric].apply(lambda x: x[0][0] > 0)][metric].apply(lambda x: x[0][0]).mean()\n",
    "      / mean_perf['mean '+metric+' (users with ANY optimal alg)'].max() -100, 2), '%')"
   ]
  },
  {
   "cell_type": "code",
   "execution_count": 82,
   "metadata": {},
   "outputs": [
    {
     "name": "stdout",
     "output_type": "stream",
     "text": [
      "All users - mean R@10 :\n",
      "---------------------------------------------------------------\n",
      "Teoretical maximum that can be achieved with perfect classifier: 0.049414448305680383\n",
      "Baseline - best single algorithm:  0.02821288608338084\n",
      "Possible relative improvement:  75.15 %\n"
     ]
    }
   ],
   "source": [
    "print('All users - mean', metric, ':')\n",
    "print('---------------------------------------------------------------')\n",
    "\n",
    "print('Teoretical maximum that can be achieved with perfect classifier:',\n",
    "    perf[metric].apply(lambda x: x[0][0]).mean())\n",
    "\n",
    "print('Baseline - best single algorithm: ',\n",
    "      mean_perf['mean '+metric+' (all users)'].max())\n",
    "\n",
    "print('Possible relative improvement: ', round(100 * perf[metric].apply(lambda x: x[0][0]).mean()\n",
    "      / mean_perf['mean '+metric+' (all users)'].max() -100, 2), '%')"
   ]
  },
  {
   "cell_type": "code",
   "execution_count": null,
   "metadata": {},
   "outputs": [],
   "source": []
  }
 ],
 "metadata": {
  "kernelspec": {
   "display_name": "Python 3.6",
   "language": "python",
   "name": "python3.6"
  },
  "language_info": {
   "codemirror_mode": {
    "name": "ipython",
    "version": 3
   },
   "file_extension": ".py",
   "mimetype": "text/x-python",
   "name": "python",
   "nbconvert_exporter": "python",
   "pygments_lexer": "ipython3",
   "version": "3.6.9"
  }
 },
 "nbformat": 4,
 "nbformat_minor": 2
}
