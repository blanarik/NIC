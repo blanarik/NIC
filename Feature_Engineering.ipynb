{
 "cells": [
  {
   "cell_type": "markdown",
   "metadata": {},
   "source": [
    "# Meta-Feature Engineering\n",
    "\n",
    "In this notebook, meta-features are created from historical data of test users. These will be then used by classifier to identify optimal base-level algorithm for each user.\n",
    "\n",
    "This notebook is structured as follows:\n",
    "\n",
    "    1 Domain independent features\n",
    "        1.1 Matrix based features\n",
    "        1.2 Graph based features\n",
    "        1.3 Timestamp based features\n",
    "    2 Domain specific features\n",
    "        2.1 Item attributes extraction from database and anonymization\n",
    "        2.2 Feature creation"
   ]
  },
  {
   "cell_type": "code",
   "execution_count": 91,
   "metadata": {},
   "outputs": [],
   "source": [
    "import pandas as pd\n",
    "import numpy as np\n",
    "import matplotlib.pyplot as plt\n",
    "from pylab import rcParams\n",
    "from ast import literal_eval\n",
    "from multiprocessing import Pool\n",
    "from collections import Counter\n",
    "import time\n",
    "from datetime import timedelta\n",
    "import datetime\n",
    "import psycopg2 as pg\n",
    "import pandas.io.sql as psql\n",
    "%matplotlib inline"
   ]
  },
  {
   "cell_type": "code",
   "execution_count": 2,
   "metadata": {},
   "outputs": [],
   "source": [
    "# set default figsize\n",
    "plt.rcParams['figure.figsize'] = [12, 4]\n",
    "\n",
    "DATA_PATH = 'data/fstore/'\n",
    "METRIC = 'NDCG@100'"
   ]
  },
  {
   "cell_type": "code",
   "execution_count": 3,
   "metadata": {},
   "outputs": [],
   "source": [
    "rs_train = pd.read_csv(DATA_PATH+'raw/history.csv')"
   ]
  },
  {
   "cell_type": "markdown",
   "metadata": {},
   "source": [
    "## 1 Domain independent features"
   ]
  },
  {
   "cell_type": "markdown",
   "metadata": {},
   "source": [
    "### 1.1 Matrix based features"
   ]
  },
  {
   "cell_type": "code",
   "execution_count": 4,
   "metadata": {},
   "outputs": [],
   "source": [
    "rs_perf = pd.read_csv(DATA_PATH+'rs_performance.csv')"
   ]
  },
  {
   "cell_type": "code",
   "execution_count": 5,
   "metadata": {},
   "outputs": [],
   "source": [
    "rs_perf[METRIC] = rs_perf[METRIC].apply(lambda x: literal_eval(x))"
   ]
  },
  {
   "cell_type": "code",
   "execution_count": 6,
   "metadata": {},
   "outputs": [
    {
     "data": {
      "text/html": [
       "<div>\n",
       "<style scoped>\n",
       "    .dataframe tbody tr th:only-of-type {\n",
       "        vertical-align: middle;\n",
       "    }\n",
       "\n",
       "    .dataframe tbody tr th {\n",
       "        vertical-align: top;\n",
       "    }\n",
       "\n",
       "    .dataframe thead th {\n",
       "        text-align: right;\n",
       "    }\n",
       "</style>\n",
       "<table border=\"1\" class=\"dataframe\">\n",
       "  <thead>\n",
       "    <tr style=\"text-align: right;\">\n",
       "      <th></th>\n",
       "      <th>user_id</th>\n",
       "      <th>NDCG@100</th>\n",
       "      <th>class</th>\n",
       "    </tr>\n",
       "  </thead>\n",
       "  <tbody>\n",
       "    <tr>\n",
       "      <th>2</th>\n",
       "      <td>2</td>\n",
       "      <td>[[0.056316753775798256, popular], [0.054120274...</td>\n",
       "      <td>popular</td>\n",
       "    </tr>\n",
       "    <tr>\n",
       "      <th>3</th>\n",
       "      <td>3</td>\n",
       "      <td>[[0.06435448568843775, itemknn], [0.0630680314...</td>\n",
       "      <td>itemknn</td>\n",
       "    </tr>\n",
       "    <tr>\n",
       "      <th>4</th>\n",
       "      <td>4</td>\n",
       "      <td>[[0.412416442009166, bpr], [0.2353703166846384...</td>\n",
       "      <td>bpr</td>\n",
       "    </tr>\n",
       "    <tr>\n",
       "      <th>5</th>\n",
       "      <td>7</td>\n",
       "      <td>[[0.21303136023417987, als], [0.19047539731574...</td>\n",
       "      <td>als</td>\n",
       "    </tr>\n",
       "    <tr>\n",
       "      <th>7</th>\n",
       "      <td>9</td>\n",
       "      <td>[[0.08314885321150761, als], [0.06674284474627...</td>\n",
       "      <td>als</td>\n",
       "    </tr>\n",
       "  </tbody>\n",
       "</table>\n",
       "</div>"
      ],
      "text/plain": [
       "   user_id                                           NDCG@100    class\n",
       "2        2  [[0.056316753775798256, popular], [0.054120274...  popular\n",
       "3        3  [[0.06435448568843775, itemknn], [0.0630680314...  itemknn\n",
       "4        4  [[0.412416442009166, bpr], [0.2353703166846384...      bpr\n",
       "5        7  [[0.21303136023417987, als], [0.19047539731574...      als\n",
       "7        9  [[0.08314885321150761, als], [0.06674284474627...      als"
      ]
     },
     "execution_count": 6,
     "metadata": {},
     "output_type": "execute_result"
    }
   ],
   "source": [
    "data = rs_perf[rs_perf[METRIC].apply(lambda x: x[0][0] > 0)][['user_id', METRIC]]\n",
    "data['class'] = data[METRIC].apply(lambda x: x[0][1])\n",
    "data.head()"
   ]
  },
  {
   "cell_type": "code",
   "execution_count": 7,
   "metadata": {},
   "outputs": [
    {
     "data": {
      "text/plain": [
       "(49154, 3)"
      ]
     },
     "execution_count": 7,
     "metadata": {},
     "output_type": "execute_result"
    }
   ],
   "source": [
    "data.shape"
   ]
  },
  {
   "cell_type": "code",
   "execution_count": 14,
   "metadata": {},
   "outputs": [],
   "source": [
    "rs_train_iids_per_uid = rs_train.groupby('user_id')['item_id'].apply(list).reset_index()"
   ]
  },
  {
   "cell_type": "code",
   "execution_count": 9,
   "metadata": {},
   "outputs": [],
   "source": [
    "data = data.join(rs_train_iids_per_uid, how='inner', on='user_id', rsuffix='_')"
   ]
  },
  {
   "cell_type": "code",
   "execution_count": 10,
   "metadata": {},
   "outputs": [
    {
     "data": {
      "text/html": [
       "<div>\n",
       "<style scoped>\n",
       "    .dataframe tbody tr th:only-of-type {\n",
       "        vertical-align: middle;\n",
       "    }\n",
       "\n",
       "    .dataframe tbody tr th {\n",
       "        vertical-align: top;\n",
       "    }\n",
       "\n",
       "    .dataframe thead th {\n",
       "        text-align: right;\n",
       "    }\n",
       "</style>\n",
       "<table border=\"1\" class=\"dataframe\">\n",
       "  <thead>\n",
       "    <tr style=\"text-align: right;\">\n",
       "      <th></th>\n",
       "      <th>user_id</th>\n",
       "      <th>NDCG@100</th>\n",
       "      <th>class</th>\n",
       "      <th>user_id_</th>\n",
       "      <th>item_id</th>\n",
       "    </tr>\n",
       "  </thead>\n",
       "  <tbody>\n",
       "    <tr>\n",
       "      <th>2</th>\n",
       "      <td>2</td>\n",
       "      <td>[[0.056316753775798256, popular], [0.054120274...</td>\n",
       "      <td>popular</td>\n",
       "      <td>2</td>\n",
       "      <td>[13048, 21368, 29352, 33296, 33304, 33972]</td>\n",
       "    </tr>\n",
       "    <tr>\n",
       "      <th>3</th>\n",
       "      <td>3</td>\n",
       "      <td>[[0.06435448568843775, itemknn], [0.0630680314...</td>\n",
       "      <td>itemknn</td>\n",
       "      <td>3</td>\n",
       "      <td>[3459, 5000, 8440, 14042, 19648, 21308, 23532,...</td>\n",
       "    </tr>\n",
       "    <tr>\n",
       "      <th>4</th>\n",
       "      <td>4</td>\n",
       "      <td>[[0.412416442009166, bpr], [0.2353703166846384...</td>\n",
       "      <td>bpr</td>\n",
       "      <td>4</td>\n",
       "      <td>[14895, 19629, 24096]</td>\n",
       "    </tr>\n",
       "    <tr>\n",
       "      <th>5</th>\n",
       "      <td>7</td>\n",
       "      <td>[[0.21303136023417987, als], [0.19047539731574...</td>\n",
       "      <td>als</td>\n",
       "      <td>7</td>\n",
       "      <td>[26187]</td>\n",
       "    </tr>\n",
       "    <tr>\n",
       "      <th>7</th>\n",
       "      <td>9</td>\n",
       "      <td>[[0.08314885321150761, als], [0.06674284474627...</td>\n",
       "      <td>als</td>\n",
       "      <td>9</td>\n",
       "      <td>[9491, 12466, 14655, 16324, 19636, 19658, 2147...</td>\n",
       "    </tr>\n",
       "  </tbody>\n",
       "</table>\n",
       "</div>"
      ],
      "text/plain": [
       "   user_id                                           NDCG@100    class  \\\n",
       "2        2  [[0.056316753775798256, popular], [0.054120274...  popular   \n",
       "3        3  [[0.06435448568843775, itemknn], [0.0630680314...  itemknn   \n",
       "4        4  [[0.412416442009166, bpr], [0.2353703166846384...      bpr   \n",
       "5        7  [[0.21303136023417987, als], [0.19047539731574...      als   \n",
       "7        9  [[0.08314885321150761, als], [0.06674284474627...      als   \n",
       "\n",
       "   user_id_                                            item_id  \n",
       "2         2         [13048, 21368, 29352, 33296, 33304, 33972]  \n",
       "3         3  [3459, 5000, 8440, 14042, 19648, 21308, 23532,...  \n",
       "4         4                              [14895, 19629, 24096]  \n",
       "5         7                                            [26187]  \n",
       "7         9  [9491, 12466, 14655, 16324, 19636, 19658, 2147...  "
      ]
     },
     "execution_count": 10,
     "metadata": {},
     "output_type": "execute_result"
    }
   ],
   "source": [
    "data.head()"
   ]
  },
  {
   "cell_type": "code",
   "execution_count": 11,
   "metadata": {},
   "outputs": [],
   "source": [
    "data['unique_items'] = data.item_id.apply(len)"
   ]
  },
  {
   "cell_type": "code",
   "execution_count": 12,
   "metadata": {
    "scrolled": false
   },
   "outputs": [
    {
     "name": "stdout",
     "output_type": "stream",
     "text": [
      "CPU times: user 2min 21s, sys: 56.5 s, total: 3min 17s\n",
      "Wall time: 1d 5h 56min 25s\n"
     ]
    }
   ],
   "source": [
    "%%time\n",
    "num_cores = 12 #number of cores on your machine\n",
    "\n",
    "def parallelize_dataframe(df, func):\n",
    "    df_split = np.array_split(df, num_cores)\n",
    "    with Pool(num_cores) as p:\n",
    "        df = pd.concat(p.map(func, df_split))\n",
    "    return df\n",
    "\n",
    "def compute_intersect_cardinality(df):\n",
    "    df['itemsets_intersect_cardinality'] = df.apply(lambda x: list(filter((0).__ne__, \n",
    "        [len(set(x.item_id).intersection(set(ilist))) for u, ilist in enumerate(rs_train_iids_per_uid.item_id.values.tolist())\n",
    "        if u != x.user_id])), axis=1)\n",
    "    return df\n",
    "    \n",
    "\n",
    "data = parallelize_dataframe(data, compute_intersect_cardinality)"
   ]
  },
  {
   "cell_type": "code",
   "execution_count": 13,
   "metadata": {},
   "outputs": [],
   "source": [
    "data.to_csv(DATA_PATH+'meta/data.csv', index=False)"
   ]
  },
  {
   "cell_type": "code",
   "execution_count": 4,
   "metadata": {},
   "outputs": [],
   "source": [
    "data = pd.read_csv(DATA_PATH+'meta/data.csv')\n",
    "data['itemsets_intersect_cardinality'] = data['itemsets_intersect_cardinality'].apply(lambda x: literal_eval(x))\n",
    "data[METRIC] = data[METRIC].apply(lambda x: literal_eval(x))\n",
    "data['item_id'] = data['item_id'].apply(lambda x: literal_eval(x))"
   ]
  },
  {
   "cell_type": "code",
   "execution_count": 5,
   "metadata": {},
   "outputs": [
    {
     "data": {
      "text/html": [
       "<div>\n",
       "<style scoped>\n",
       "    .dataframe tbody tr th:only-of-type {\n",
       "        vertical-align: middle;\n",
       "    }\n",
       "\n",
       "    .dataframe tbody tr th {\n",
       "        vertical-align: top;\n",
       "    }\n",
       "\n",
       "    .dataframe thead th {\n",
       "        text-align: right;\n",
       "    }\n",
       "</style>\n",
       "<table border=\"1\" class=\"dataframe\">\n",
       "  <thead>\n",
       "    <tr style=\"text-align: right;\">\n",
       "      <th></th>\n",
       "      <th>user_id</th>\n",
       "      <th>NDCG@100</th>\n",
       "      <th>class</th>\n",
       "      <th>user_id_</th>\n",
       "      <th>item_id</th>\n",
       "      <th>unique_items</th>\n",
       "      <th>itemsets_intersect_cardinality</th>\n",
       "    </tr>\n",
       "  </thead>\n",
       "  <tbody>\n",
       "    <tr>\n",
       "      <th>0</th>\n",
       "      <td>2</td>\n",
       "      <td>[[0.056316753775798256, popular], [0.054120274...</td>\n",
       "      <td>popular</td>\n",
       "      <td>2</td>\n",
       "      <td>[13048, 21368, 29352, 33296, 33304, 33972]</td>\n",
       "      <td>6</td>\n",
       "      <td>[1, 1, 1, 1, 2, 1, 1, 1, 1, 1, 1, 1, 1, 1, 1, ...</td>\n",
       "    </tr>\n",
       "    <tr>\n",
       "      <th>1</th>\n",
       "      <td>3</td>\n",
       "      <td>[[0.06435448568843775, itemknn], [0.0630680314...</td>\n",
       "      <td>itemknn</td>\n",
       "      <td>3</td>\n",
       "      <td>[3459, 5000, 8440, 14042, 19648, 21308, 23532,...</td>\n",
       "      <td>38</td>\n",
       "      <td>[1, 2, 1, 1, 1, 1, 1, 1, 1, 1, 1, 1, 3, 1, 1, ...</td>\n",
       "    </tr>\n",
       "    <tr>\n",
       "      <th>2</th>\n",
       "      <td>4</td>\n",
       "      <td>[[0.412416442009166, bpr], [0.2353703166846384...</td>\n",
       "      <td>bpr</td>\n",
       "      <td>4</td>\n",
       "      <td>[14895, 19629, 24096]</td>\n",
       "      <td>3</td>\n",
       "      <td>[1, 1, 1, 1, 1, 1, 1, 1, 2, 1, 2, 1, 1, 1, 1, ...</td>\n",
       "    </tr>\n",
       "    <tr>\n",
       "      <th>3</th>\n",
       "      <td>7</td>\n",
       "      <td>[[0.21303136023417987, als], [0.19047539731574...</td>\n",
       "      <td>als</td>\n",
       "      <td>7</td>\n",
       "      <td>[26187]</td>\n",
       "      <td>1</td>\n",
       "      <td>[1, 1, 1, 1, 1, 1, 1, 1, 1, 1, 1, 1, 1, 1, 1, ...</td>\n",
       "    </tr>\n",
       "    <tr>\n",
       "      <th>4</th>\n",
       "      <td>9</td>\n",
       "      <td>[[0.08314885321150761, als], [0.06674284474627...</td>\n",
       "      <td>als</td>\n",
       "      <td>9</td>\n",
       "      <td>[9491, 12466, 14655, 16324, 19636, 19658, 2147...</td>\n",
       "      <td>28</td>\n",
       "      <td>[1, 2, 2, 2, 1, 1, 1, 2, 1, 1, 1, 1, 1, 1, 1, ...</td>\n",
       "    </tr>\n",
       "  </tbody>\n",
       "</table>\n",
       "</div>"
      ],
      "text/plain": [
       "   user_id                                           NDCG@100    class  \\\n",
       "0        2  [[0.056316753775798256, popular], [0.054120274...  popular   \n",
       "1        3  [[0.06435448568843775, itemknn], [0.0630680314...  itemknn   \n",
       "2        4  [[0.412416442009166, bpr], [0.2353703166846384...      bpr   \n",
       "3        7  [[0.21303136023417987, als], [0.19047539731574...      als   \n",
       "4        9  [[0.08314885321150761, als], [0.06674284474627...      als   \n",
       "\n",
       "   user_id_                                            item_id  unique_items  \\\n",
       "0         2         [13048, 21368, 29352, 33296, 33304, 33972]             6   \n",
       "1         3  [3459, 5000, 8440, 14042, 19648, 21308, 23532,...            38   \n",
       "2         4                              [14895, 19629, 24096]             3   \n",
       "3         7                                            [26187]             1   \n",
       "4         9  [9491, 12466, 14655, 16324, 19636, 19658, 2147...            28   \n",
       "\n",
       "                      itemsets_intersect_cardinality  \n",
       "0  [1, 1, 1, 1, 2, 1, 1, 1, 1, 1, 1, 1, 1, 1, 1, ...  \n",
       "1  [1, 2, 1, 1, 1, 1, 1, 1, 1, 1, 1, 1, 3, 1, 1, ...  \n",
       "2  [1, 1, 1, 1, 1, 1, 1, 1, 2, 1, 2, 1, 1, 1, 1, ...  \n",
       "3  [1, 1, 1, 1, 1, 1, 1, 1, 1, 1, 1, 1, 1, 1, 1, ...  \n",
       "4  [1, 2, 2, 2, 1, 1, 1, 2, 1, 1, 1, 1, 1, 1, 1, ...  "
      ]
     },
     "execution_count": 5,
     "metadata": {},
     "output_type": "execute_result"
    }
   ],
   "source": [
    "data.head()"
   ]
  },
  {
   "cell_type": "code",
   "execution_count": 6,
   "metadata": {},
   "outputs": [
    {
     "data": {
      "text/plain": [
       "(49154, 7)"
      ]
     },
     "execution_count": 6,
     "metadata": {},
     "output_type": "execute_result"
    }
   ],
   "source": [
    "data.shape"
   ]
  },
  {
   "cell_type": "code",
   "execution_count": 7,
   "metadata": {},
   "outputs": [
    {
     "data": {
      "text/plain": [
       "Text(0.5,1,'Per user max cardinality of itemset itersection')"
      ]
     },
     "execution_count": 7,
     "metadata": {},
     "output_type": "execute_result"
    },
    {
     "data": {
      "image/png": "[encoded data removed]",
      "text/plain": [
       "<Figure size 864x288 with 1 Axes>"
      ]
     },
     "metadata": {
      "needs_background": "light"
     },
     "output_type": "display_data"
    }
   ],
   "source": [
    "data.itemsets_intersect_cardinality.apply(lambda x: max(x) if len(x) > 0 else 0).value_counts().sort_index().plot(kind='bar')\n",
    "plt.title('Per user max cardinality of itemset itersection')"
   ]
  },
  {
   "cell_type": "code",
   "execution_count": 8,
   "metadata": {
    "scrolled": false
   },
   "outputs": [
    {
     "name": "stdout",
     "output_type": "stream",
     "text": [
      "CPU times: user 32 s, sys: 6.38 s, total: 38.4 s\n",
      "Wall time: 1h 57min 35s\n"
     ]
    }
   ],
   "source": [
    "%%time\n",
    "num_cores = 12 #number of cores on your machine\n",
    "\n",
    "def parallelize_dataframe(df, func):\n",
    "    df_split = np.array_split(df, num_cores)\n",
    "    with Pool(num_cores) as p:\n",
    "        df = pd.concat(p.map(func, df_split))\n",
    "    return df\n",
    "\n",
    "def create_meta_features(df):\n",
    "    for i in range(1, 11):\n",
    "        df['users_sharing_'+str(i)] = df.itemsets_intersect_cardinality.apply(lambda x: x.count(i))\n",
    "        df['users_sharing_'+str(i)+'+'] = df.itemsets_intersect_cardinality.apply(lambda x: [c>=i for c in x].count(True))\n",
    "        df['users_sharing_'+str(10*i)+'%+'] = df.apply(lambda x: \n",
    "                [c/x.unique_items >= i/10 for c in x.itemsets_intersect_cardinality].count(True), axis=1)\n",
    "\n",
    "    # how many other users have seen user's items\n",
    "    df['item_appearance'] = df.item_id.apply(lambda x: [item_appearance[item_id] for item_id in x])\n",
    "    df['item_appearance_q1'] = df.item_appearance.apply(lambda x: np.quantile(x, q=.25))\n",
    "    df['item_appearance_q2'] = df.item_appearance.apply(lambda x: np.quantile(x, q=.5))\n",
    "    df['item_appearance_q3'] = df.item_appearance.apply(lambda x: np.quantile(x, q=.75))\n",
    "    df['item_appearance_mean'] = df.item_appearance.apply(lambda x: np.mean(x))\n",
    "    df['item_appearance_min'] = df.item_appearance.apply(lambda x: np.min(x))\n",
    "    df['item_appearance_max'] = df.item_appearance.apply(lambda x: np.max(x))\n",
    "    return df\n",
    "    \n",
    "\n",
    "item_appearance = rs_train.groupby('item_id')['user_id'].count()\n",
    "data = parallelize_dataframe(data, create_meta_features)"
   ]
  },
  {
   "cell_type": "code",
   "execution_count": 9,
   "metadata": {},
   "outputs": [],
   "source": [
    "data.to_csv(DATA_PATH+'meta/data.csv', index=False)"
   ]
  },
  {
   "cell_type": "markdown",
   "metadata": {},
   "source": [
    "### 1.2 Graph based features"
   ]
  },
  {
   "cell_type": "code",
   "execution_count": 10,
   "metadata": {},
   "outputs": [],
   "source": [
    "rs_train_uids_per_iid = rs_train.groupby('item_id')['user_id'].apply(list).reset_index()"
   ]
  },
  {
   "cell_type": "code",
   "execution_count": 15,
   "metadata": {
    "scrolled": false
   },
   "outputs": [
    {
     "name": "stdout",
     "output_type": "stream",
     "text": [
      "1 start\n",
      "1 start\n",
      "1 start\n",
      "1 start\n",
      "1 took 0:00:04.345127\n",
      "2 start\n",
      "1 start\n",
      "1 took 0:00:04.901832\n",
      "2 start\n",
      "1 start\n",
      "1 took 0:00:04.680275\n",
      "2 start\n",
      "1 took 0:00:05.097198\n",
      "2 start\n",
      "1 start\n",
      "1 took 0:00:04.994502\n",
      "2 start\n",
      "1 start\n",
      "1 took 0:00:05.381447\n",
      "2 start\n",
      "1 start\n",
      "1 start\n",
      "1 start\n",
      "1 took 0:00:06.708437\n",
      "2 start\n",
      "1 took 0:00:05.101569\n",
      "2 start\n",
      "1 start\n",
      "1 took 0:00:05.995136\n",
      "2 start\n",
      "1 took 0:00:05.665759\n",
      "2 start\n",
      "1 took 0:00:05.058947\n",
      "2 start\n",
      "1 took 0:00:05.257819\n",
      "2 start\n",
      "2 took 0:12:00.403639\n",
      "3 start\n",
      "2 took 0:12:16.402256\n",
      "3 start\n",
      "2 took 0:12:14.509346\n",
      "3 start\n",
      "2 took 0:12:36.840924\n",
      "3 start\n",
      "2 took 0:12:54.026305\n",
      "3 start\n",
      "2 took 0:13:13.724901\n",
      "3 start\n",
      "2 took 0:13:17.666017\n",
      "3 start\n",
      "2 took 0:13:18.236677\n",
      "3 start\n",
      "2 took 0:13:23.851654\n",
      "3 start\n",
      "2 took 0:13:34.553288\n",
      "3 start\n",
      "2 took 0:14:16.440732\n",
      "3 start\n",
      "2 took 0:14:29.596560\n",
      "3 start\n",
      "3 took 7:11:03.616080\n",
      "3 took 7:15:33.989851\n",
      "3 took 7:17:47.723954\n",
      "3 took 7:19:40.925001\n",
      "3 took 7:18:27.097022\n",
      "3 took 7:19:18.732049\n",
      "3 took 7:22:41.281541\n",
      "3 took 7:21:29.432011\n",
      "3 took 7:22:59.249198\n",
      "3 took 7:24:39.393706\n",
      "3 took 7:24:46.397885\n",
      "3 took 7:28:06.479616\n",
      "CPU times: user 1min 22s, sys: 47.6 s, total: 2min 10s\n",
      "Wall time: 7h 41min 38s\n"
     ]
    }
   ],
   "source": [
    "%%time\n",
    "num_cores = 12 #number of cores on your machine\n",
    "\n",
    "def parallelize_dataframe(df, func):\n",
    "    df_split = np.array_split(df, num_cores)\n",
    "    with Pool(num_cores) as p:\n",
    "        df = pd.concat(p.map(func, df_split))\n",
    "    return df\n",
    "\n",
    "def search_iids(row, depth):\n",
    "    if depth>1:\n",
    "        iids = []\n",
    "        for uid in row['g_depth_'+str(depth-1)+'_ids']:\n",
    "            iids += rs_train_iids_per_uid.loc[uid].item_id\n",
    "        iids = [iid for iid in iids if iid not in row['g_depth_'+str(depth-2)+'_ids']] # remove edges to ids in depth-2\n",
    "        edges = len(iids)\n",
    "        iids = list(set(iids)) # remove duplicates\n",
    "        # avoid memory error\n",
    "        if depth == 3:\n",
    "            return pd.Series((len(iids), edges))\n",
    "        return pd.Series((iids, edges))\n",
    "    else:\n",
    "        return pd.Series((row.item_id, len(row.item_id)))\n",
    "    \n",
    "def search_uids(row, depth):\n",
    "    if depth>2:\n",
    "        uids = []\n",
    "        for iid in row['g_depth_'+str(depth-1)+'_ids']:\n",
    "            uids += rs_train_uids_per_iid.loc[iid].user_id\n",
    "        uids = [uid for uid in uids if uid not in row['g_depth_'+str(depth-2)+'_ids']] # remove edges to ids in depth-2\n",
    "        edges = len(uids)\n",
    "        uids = list(set(uids)) # remove duplicates\n",
    "        return pd.Series((uids, edges))\n",
    "    else:\n",
    "        uids = []\n",
    "        for iid in row['g_depth_'+str(depth-1)+'_ids']:\n",
    "            uids += rs_train_uids_per_iid.loc[iid].user_id\n",
    "        uids = [uid for uid in uids if uid is not row.user_id] # remove edges to ids in depth-2\n",
    "        edges = len(uids)\n",
    "        uids = list(set(uids)) # remove duplicates\n",
    "        return pd.Series((uids, edges))\n",
    "\n",
    "def search_graph(df):\n",
    "    for depth in range(1, 4):\n",
    "        start = time.time()\n",
    "        print(depth, 'start')\n",
    "        if depth%2 == 1: # searching iids\n",
    "            df[['g_depth_'+str(depth)+'_ids', 'g_depth_'+str(depth)+'_edges_'+str(depth-1)]] \\\n",
    "                = df.apply(search_iids, args=(depth,), axis=1)\n",
    "        else: # searching uids\n",
    "            df[['g_depth_'+str(depth)+'_ids', 'g_depth_'+str(depth)+'_edges_'+str(depth-1)]] \\\n",
    "                = df.apply(search_uids, args=(depth,), axis=1)\n",
    "        print(depth, 'took', str(timedelta(seconds=time.time() - start)))\n",
    "    return df\n",
    "\n",
    "data = parallelize_dataframe(data, search_graph)"
   ]
  },
  {
   "cell_type": "code",
   "execution_count": 16,
   "metadata": {},
   "outputs": [],
   "source": [
    "data.to_csv(DATA_PATH+'meta/data.csv', index=False)"
   ]
  },
  {
   "cell_type": "code",
   "execution_count": 17,
   "metadata": {},
   "outputs": [
    {
     "data": {
      "text/plain": [
       "count    49154.000000\n",
       "mean        13.234996\n",
       "std         15.417042\n",
       "min          1.000000\n",
       "25%          2.000000\n",
       "50%          7.000000\n",
       "75%         18.000000\n",
       "max         97.000000\n",
       "Name: g_depth_1_ids, dtype: float64"
      ]
     },
     "execution_count": 17,
     "metadata": {},
     "output_type": "execute_result"
    }
   ],
   "source": [
    "data.g_depth_1_ids.apply(len).describe()"
   ]
  },
  {
   "cell_type": "code",
   "execution_count": 18,
   "metadata": {},
   "outputs": [
    {
     "data": {
      "text/plain": [
       "count    49154.000000\n",
       "mean      3224.196993\n",
       "std       3565.438858\n",
       "min          1.000000\n",
       "25%        535.000000\n",
       "50%       1959.000000\n",
       "75%       4715.000000\n",
       "max      26955.000000\n",
       "Name: g_depth_2_ids, dtype: float64"
      ]
     },
     "execution_count": 18,
     "metadata": {},
     "output_type": "execute_result"
    }
   ],
   "source": [
    "data.g_depth_2_ids.apply(len).describe()"
   ]
  },
  {
   "cell_type": "code",
   "execution_count": 19,
   "metadata": {},
   "outputs": [
    {
     "data": {
      "text/plain": [
       "count    49154.000000\n",
       "mean     11772.815783\n",
       "std       6553.196379\n",
       "min          0.000000\n",
       "25%       6403.250000\n",
       "50%      11901.000000\n",
       "75%      17093.750000\n",
       "max      27009.000000\n",
       "Name: g_depth_3_ids, dtype: float64"
      ]
     },
     "execution_count": 19,
     "metadata": {},
     "output_type": "execute_result"
    }
   ],
   "source": [
    "data.g_depth_3_ids.describe()"
   ]
  },
  {
   "cell_type": "code",
   "execution_count": 20,
   "metadata": {},
   "outputs": [
    {
     "data": {
      "text/html": [
       "<div>\n",
       "<style scoped>\n",
       "    .dataframe tbody tr th:only-of-type {\n",
       "        vertical-align: middle;\n",
       "    }\n",
       "\n",
       "    .dataframe tbody tr th {\n",
       "        vertical-align: top;\n",
       "    }\n",
       "\n",
       "    .dataframe thead th {\n",
       "        text-align: right;\n",
       "    }\n",
       "</style>\n",
       "<table border=\"1\" class=\"dataframe\">\n",
       "  <thead>\n",
       "    <tr style=\"text-align: right;\">\n",
       "      <th></th>\n",
       "      <th>user_id</th>\n",
       "      <th>NDCG@100</th>\n",
       "      <th>class</th>\n",
       "      <th>user_id_</th>\n",
       "      <th>item_id</th>\n",
       "      <th>unique_items</th>\n",
       "      <th>itemsets_intersect_cardinality</th>\n",
       "      <th>users_sharing_1</th>\n",
       "      <th>users_sharing_1+</th>\n",
       "      <th>users_sharing_10%+</th>\n",
       "      <th>...</th>\n",
       "      <th>item_appearance_q3</th>\n",
       "      <th>item_appearance_mean</th>\n",
       "      <th>item_appearance_min</th>\n",
       "      <th>item_appearance_max</th>\n",
       "      <th>g_depth_1_ids</th>\n",
       "      <th>g_depth_1_edges_0</th>\n",
       "      <th>g_depth_2_ids</th>\n",
       "      <th>g_depth_2_edges_1</th>\n",
       "      <th>g_depth_3_ids</th>\n",
       "      <th>g_depth_3_edges_2</th>\n",
       "    </tr>\n",
       "  </thead>\n",
       "  <tbody>\n",
       "    <tr>\n",
       "      <th>0</th>\n",
       "      <td>2</td>\n",
       "      <td>[[0.056316753775798256, popular], [0.054120274...</td>\n",
       "      <td>popular</td>\n",
       "      <td>2</td>\n",
       "      <td>[13048, 21368, 29352, 33296, 33304, 33972]</td>\n",
       "      <td>6</td>\n",
       "      <td>[1, 1, 1, 1, 2, 1, 1, 1, 1, 1, 1, 1, 1, 1, 1, ...</td>\n",
       "      <td>994</td>\n",
       "      <td>1071</td>\n",
       "      <td>1071</td>\n",
       "      <td>...</td>\n",
       "      <td>267.75</td>\n",
       "      <td>192.833333</td>\n",
       "      <td>32</td>\n",
       "      <td>515</td>\n",
       "      <td>[13048, 21368, 29352, 33296, 33304, 33972]</td>\n",
       "      <td>6</td>\n",
       "      <td>[24576, 38916, 61446, 2055, 55302, 88073, 7169...</td>\n",
       "      <td>1151</td>\n",
       "      <td>10156</td>\n",
       "      <td>31712</td>\n",
       "    </tr>\n",
       "    <tr>\n",
       "      <th>1</th>\n",
       "      <td>3</td>\n",
       "      <td>[[0.06435448568843775, itemknn], [0.0630680314...</td>\n",
       "      <td>itemknn</td>\n",
       "      <td>3</td>\n",
       "      <td>[3459, 5000, 8440, 14042, 19648, 21308, 23532,...</td>\n",
       "      <td>38</td>\n",
       "      <td>[1, 2, 1, 1, 1, 1, 1, 1, 1, 1, 1, 1, 3, 1, 1, ...</td>\n",
       "      <td>11984</td>\n",
       "      <td>16060</td>\n",
       "      <td>393</td>\n",
       "      <td>...</td>\n",
       "      <td>695.75</td>\n",
       "      <td>578.473684</td>\n",
       "      <td>65</td>\n",
       "      <td>2394</td>\n",
       "      <td>[3459, 5000, 8440, 14042, 19648, 21308, 23532,...</td>\n",
       "      <td>38</td>\n",
       "      <td>[32768, 98305, 32770, 98306, 5, 98311, 32777, ...</td>\n",
       "      <td>21944</td>\n",
       "      <td>24212</td>\n",
       "      <td>353125</td>\n",
       "    </tr>\n",
       "    <tr>\n",
       "      <th>2</th>\n",
       "      <td>4</td>\n",
       "      <td>[[0.412416442009166, bpr], [0.2353703166846384...</td>\n",
       "      <td>bpr</td>\n",
       "      <td>4</td>\n",
       "      <td>[14895, 19629, 24096]</td>\n",
       "      <td>3</td>\n",
       "      <td>[1, 1, 1, 1, 1, 1, 1, 1, 2, 1, 2, 1, 1, 1, 1, ...</td>\n",
       "      <td>550</td>\n",
       "      <td>566</td>\n",
       "      <td>566</td>\n",
       "      <td>...</td>\n",
       "      <td>272.50</td>\n",
       "      <td>195.000000</td>\n",
       "      <td>40</td>\n",
       "      <td>288</td>\n",
       "      <td>[14895, 19629, 24096]</td>\n",
       "      <td>3</td>\n",
       "      <td>[4096, 79873, 69636, 8196, 16390, 10247, 47108...</td>\n",
       "      <td>582</td>\n",
       "      <td>6171</td>\n",
       "      <td>16923</td>\n",
       "    </tr>\n",
       "    <tr>\n",
       "      <th>3</th>\n",
       "      <td>7</td>\n",
       "      <td>[[0.21303136023417987, als], [0.19047539731574...</td>\n",
       "      <td>als</td>\n",
       "      <td>7</td>\n",
       "      <td>[26187]</td>\n",
       "      <td>1</td>\n",
       "      <td>[1, 1, 1, 1, 1, 1, 1, 1, 1, 1, 1, 1, 1, 1, 1, ...</td>\n",
       "      <td>1146</td>\n",
       "      <td>1146</td>\n",
       "      <td>1146</td>\n",
       "      <td>...</td>\n",
       "      <td>1147.00</td>\n",
       "      <td>1147.000000</td>\n",
       "      <td>1147</td>\n",
       "      <td>1147</td>\n",
       "      <td>[26187]</td>\n",
       "      <td>1</td>\n",
       "      <td>[24576, 55297, 26625, 34819, 2052, 6151, 81933...</td>\n",
       "      <td>1146</td>\n",
       "      <td>9103</td>\n",
       "      <td>26543</td>\n",
       "    </tr>\n",
       "    <tr>\n",
       "      <th>4</th>\n",
       "      <td>9</td>\n",
       "      <td>[[0.08314885321150761, als], [0.06674284474627...</td>\n",
       "      <td>als</td>\n",
       "      <td>9</td>\n",
       "      <td>[9491, 12466, 14655, 16324, 19636, 19658, 2147...</td>\n",
       "      <td>28</td>\n",
       "      <td>[1, 2, 2, 2, 1, 1, 1, 2, 1, 1, 1, 1, 1, 1, 1, ...</td>\n",
       "      <td>6505</td>\n",
       "      <td>7422</td>\n",
       "      <td>139</td>\n",
       "      <td>...</td>\n",
       "      <td>319.50</td>\n",
       "      <td>304.714286</td>\n",
       "      <td>9</td>\n",
       "      <td>1499</td>\n",
       "      <td>[9491, 12466, 14655, 16324, 19636, 19658, 2147...</td>\n",
       "      <td>28</td>\n",
       "      <td>[98316, 98326, 65558, 32799, 32806, 65577, 655...</td>\n",
       "      <td>8504</td>\n",
       "      <td>19403</td>\n",
       "      <td>190331</td>\n",
       "    </tr>\n",
       "  </tbody>\n",
       "</table>\n",
       "<p>5 rows × 50 columns</p>\n",
       "</div>"
      ],
      "text/plain": [
       "   user_id                                           NDCG@100    class  \\\n",
       "0        2  [[0.056316753775798256, popular], [0.054120274...  popular   \n",
       "1        3  [[0.06435448568843775, itemknn], [0.0630680314...  itemknn   \n",
       "2        4  [[0.412416442009166, bpr], [0.2353703166846384...      bpr   \n",
       "3        7  [[0.21303136023417987, als], [0.19047539731574...      als   \n",
       "4        9  [[0.08314885321150761, als], [0.06674284474627...      als   \n",
       "\n",
       "   user_id_                                            item_id  unique_items  \\\n",
       "0         2         [13048, 21368, 29352, 33296, 33304, 33972]             6   \n",
       "1         3  [3459, 5000, 8440, 14042, 19648, 21308, 23532,...            38   \n",
       "2         4                              [14895, 19629, 24096]             3   \n",
       "3         7                                            [26187]             1   \n",
       "4         9  [9491, 12466, 14655, 16324, 19636, 19658, 2147...            28   \n",
       "\n",
       "                      itemsets_intersect_cardinality  users_sharing_1  \\\n",
       "0  [1, 1, 1, 1, 2, 1, 1, 1, 1, 1, 1, 1, 1, 1, 1, ...              994   \n",
       "1  [1, 2, 1, 1, 1, 1, 1, 1, 1, 1, 1, 1, 3, 1, 1, ...            11984   \n",
       "2  [1, 1, 1, 1, 1, 1, 1, 1, 2, 1, 2, 1, 1, 1, 1, ...              550   \n",
       "3  [1, 1, 1, 1, 1, 1, 1, 1, 1, 1, 1, 1, 1, 1, 1, ...             1146   \n",
       "4  [1, 2, 2, 2, 1, 1, 1, 2, 1, 1, 1, 1, 1, 1, 1, ...             6505   \n",
       "\n",
       "   users_sharing_1+  users_sharing_10%+  ...  item_appearance_q3  \\\n",
       "0              1071                1071  ...              267.75   \n",
       "1             16060                 393  ...              695.75   \n",
       "2               566                 566  ...              272.50   \n",
       "3              1146                1146  ...             1147.00   \n",
       "4              7422                 139  ...              319.50   \n",
       "\n",
       "   item_appearance_mean  item_appearance_min  item_appearance_max  \\\n",
       "0            192.833333                   32                  515   \n",
       "1            578.473684                   65                 2394   \n",
       "2            195.000000                   40                  288   \n",
       "3           1147.000000                 1147                 1147   \n",
       "4            304.714286                    9                 1499   \n",
       "\n",
       "                                       g_depth_1_ids  g_depth_1_edges_0  \\\n",
       "0         [13048, 21368, 29352, 33296, 33304, 33972]                  6   \n",
       "1  [3459, 5000, 8440, 14042, 19648, 21308, 23532,...                 38   \n",
       "2                              [14895, 19629, 24096]                  3   \n",
       "3                                            [26187]                  1   \n",
       "4  [9491, 12466, 14655, 16324, 19636, 19658, 2147...                 28   \n",
       "\n",
       "                                       g_depth_2_ids  g_depth_2_edges_1  \\\n",
       "0  [24576, 38916, 61446, 2055, 55302, 88073, 7169...               1151   \n",
       "1  [32768, 98305, 32770, 98306, 5, 98311, 32777, ...              21944   \n",
       "2  [4096, 79873, 69636, 8196, 16390, 10247, 47108...                582   \n",
       "3  [24576, 55297, 26625, 34819, 2052, 6151, 81933...               1146   \n",
       "4  [98316, 98326, 65558, 32799, 32806, 65577, 655...               8504   \n",
       "\n",
       "   g_depth_3_ids  g_depth_3_edges_2  \n",
       "0          10156              31712  \n",
       "1          24212             353125  \n",
       "2           6171              16923  \n",
       "3           9103              26543  \n",
       "4          19403             190331  \n",
       "\n",
       "[5 rows x 50 columns]"
      ]
     },
     "execution_count": 20,
     "metadata": {},
     "output_type": "execute_result"
    }
   ],
   "source": [
    "data.head()"
   ]
  },
  {
   "cell_type": "code",
   "execution_count": 22,
   "metadata": {},
   "outputs": [
    {
     "name": "stdout",
     "output_type": "stream",
     "text": [
      "CPU times: user 39.8 s, sys: 18.8 s, total: 58.6 s\n",
      "Wall time: 32 s\n"
     ]
    }
   ],
   "source": [
    "%%time\n",
    "\n",
    "def count_edges(row, depth, init_depth):\n",
    "    edges = 0\n",
    "    for i in range(init_depth, depth):\n",
    "        edges += row['g_depth_'+str(i+1)+'_edges_'+str(i)]\n",
    "    return edges\n",
    "\n",
    "def get_possible_edges(row, depth, init_depth):\n",
    "    items = 0\n",
    "    users = 0\n",
    "    for i in range(init_depth, depth+1):\n",
    "        if i%2 == 1:\n",
    "            users += row['g_depth_'+str(i)+'_vertices']\n",
    "        else:\n",
    "            items += row['g_depth_'+str(i)+'_vertices']\n",
    "    return items*users\n",
    "\n",
    "data['g_depth_0_vertices'] = 1\n",
    "for depth in range(1, 4):\n",
    "    if depth < 3:\n",
    "        data['g_depth_'+str(depth)+'_vertices'] = data['g_depth_'+str(depth)+'_ids'].apply(len)\n",
    "    else:\n",
    "        data['g_depth_'+str(depth)+'_vertices'] = data['g_depth_'+str(depth)+'_ids']\n",
    "    for init_depth in range(0, depth-1):\n",
    "        data['g_depth_'+str(depth)+'_edges_'+str(init_depth)] = data.apply(count_edges, args=(depth, init_depth), axis=1)\n",
    "    for init_depth in range(0, depth):    \n",
    "        data['g_depth_'+str(depth)+'_possible_edges_'+str(init_depth)] = data.apply(get_possible_edges, args=(depth, init_depth), axis=1)\n",
    "        data['g_depth_'+str(depth)+'_density_'+str(init_depth)] = data['g_depth_'+str(depth)+'_edges_'+str(init_depth)] \\\n",
    "                                                                / data['g_depth_'+str(depth)+'_possible_edges_'+str(init_depth)]\n",
    "        # solve NaNs\n",
    "        data['g_depth_'+str(depth)+'_density_'+str(init_depth)] = data['g_depth_'+str(depth)+'_density_'+str(init_depth)] \\\n",
    "                                                                .apply(lambda x: x if x > 0 else 0)"
   ]
  },
  {
   "cell_type": "code",
   "execution_count": 23,
   "metadata": {},
   "outputs": [
    {
     "data": {
      "text/plain": [
       "(49154, 69)"
      ]
     },
     "execution_count": 23,
     "metadata": {},
     "output_type": "execute_result"
    }
   ],
   "source": [
    "data.shape"
   ]
  },
  {
   "cell_type": "code",
   "execution_count": 24,
   "metadata": {},
   "outputs": [
    {
     "data": {
      "text/plain": [
       "user_id                                                                           3\n",
       "NDCG@100                          [[0.06435448568843775, itemknn], [0.0630680314...\n",
       "class                                                                       itemknn\n",
       "user_id_                                                                          3\n",
       "item_id                           [3459, 5000, 8440, 14042, 19648, 21308, 23532,...\n",
       "unique_items                                                                     38\n",
       "itemsets_intersect_cardinality    [1, 2, 1, 1, 1, 1, 1, 1, 1, 1, 1, 1, 3, 1, 1, ...\n",
       "users_sharing_1                                                               11984\n",
       "users_sharing_1+                                                              16060\n",
       "users_sharing_10%+                                                              393\n",
       "users_sharing_2                                                                2839\n",
       "users_sharing_2+                                                               4076\n",
       "users_sharing_20%+                                                                4\n",
       "users_sharing_3                                                                 844\n",
       "users_sharing_3+                                                               1237\n",
       "users_sharing_30%+                                                                0\n",
       "users_sharing_4                                                                 265\n",
       "users_sharing_4+                                                                393\n",
       "users_sharing_40%+                                                                0\n",
       "users_sharing_5                                                                  92\n",
       "users_sharing_5+                                                                128\n",
       "users_sharing_50%+                                                                0\n",
       "users_sharing_6                                                                  27\n",
       "users_sharing_6+                                                                 36\n",
       "users_sharing_60%+                                                                0\n",
       "users_sharing_7                                                                   5\n",
       "users_sharing_7+                                                                  9\n",
       "users_sharing_70%+                                                                0\n",
       "users_sharing_8                                                                   3\n",
       "users_sharing_8+                                                                  4\n",
       "                                                        ...                        \n",
       "item_appearance_q2                                                            436.5\n",
       "item_appearance_q3                                                           695.75\n",
       "item_appearance_mean                                                        578.474\n",
       "item_appearance_min                                                              65\n",
       "item_appearance_max                                                            2394\n",
       "g_depth_1_ids                     [3459, 5000, 8440, 14042, 19648, 21308, 23532,...\n",
       "g_depth_1_edges_0                                                                38\n",
       "g_depth_2_ids                     [32768, 98305, 32770, 98306, 5, 98311, 32777, ...\n",
       "g_depth_2_edges_1                                                             21944\n",
       "g_depth_3_ids                                                                 24212\n",
       "g_depth_3_edges_2                                                            353125\n",
       "g_depth_0_vertices                                                                1\n",
       "g_depth_1_vertices                                                               38\n",
       "g_depth_1_possible_edges_0                                                       38\n",
       "g_depth_1_density_0                                                               1\n",
       "g_depth_2_vertices                                                            16060\n",
       "g_depth_2_edges_0                                                             21982\n",
       "g_depth_2_possible_edges_0                                                   610318\n",
       "g_depth_2_density_0                                                       0.0360173\n",
       "g_depth_2_possible_edges_1                                                   610280\n",
       "g_depth_2_density_1                                                       0.0359573\n",
       "g_depth_3_vertices                                                            24212\n",
       "g_depth_3_edges_0                                                            375107\n",
       "g_depth_3_edges_1                                                            375069\n",
       "g_depth_3_possible_edges_0                                                389479250\n",
       "g_depth_3_density_0                                                     0.000963099\n",
       "g_depth_3_possible_edges_1                                                389455000\n",
       "g_depth_3_density_1                                                     0.000963061\n",
       "g_depth_3_possible_edges_2                                                388844720\n",
       "g_depth_3_density_2                                                     0.000908139\n",
       "Name: 1, Length: 69, dtype: object"
      ]
     },
     "execution_count": 24,
     "metadata": {},
     "output_type": "execute_result"
    }
   ],
   "source": [
    "data.loc[1]"
   ]
  },
  {
   "cell_type": "code",
   "execution_count": 25,
   "metadata": {},
   "outputs": [],
   "source": [
    "data.to_csv(DATA_PATH+'meta/data.csv', index=False)"
   ]
  },
  {
   "cell_type": "markdown",
   "metadata": {},
   "source": [
    "### 1.3 Timestamp based features"
   ]
  },
  {
   "cell_type": "code",
   "execution_count": 36,
   "metadata": {},
   "outputs": [],
   "source": [
    "rs_train['seconds_diff'] = rs_train.ts_first.apply(lambda x: (datetime.datetime.strptime('2018-06-20 00:00:00', '%Y-%m-%d %H:%M:%S') \\\n",
    "                                                             - datetime.datetime.strptime(x.split('.')[0], '%Y-%m-%d %H:%M:%S')).total_seconds())"
   ]
  },
  {
   "cell_type": "code",
   "execution_count": 37,
   "metadata": {},
   "outputs": [],
   "source": [
    "diff_min = rs_train.groupby('user_id')['seconds_diff'].min()\n",
    "diff_max = rs_train.groupby('user_id')['seconds_diff'].max()\n",
    "diff_mean = rs_train.groupby('user_id')['seconds_diff'].mean()\n",
    "diff_q1 = rs_train.groupby('user_id')['seconds_diff'].apply(lambda x: np.quantile(x, q=.25))\n",
    "diff_q2 = rs_train.groupby('user_id')['seconds_diff'].apply(lambda x: np.quantile(x, q=.5))\n",
    "diff_q3 = rs_train.groupby('user_id')['seconds_diff'].apply(lambda x: np.quantile(x, q=.75))"
   ]
  },
  {
   "cell_type": "code",
   "execution_count": 38,
   "metadata": {},
   "outputs": [],
   "source": [
    "data = pd.read_csv(DATA_PATH+'meta/data.csv')\n",
    "#data['itemsets_intersect_cardinality'] = data['itemsets_intersect_cardinality'].apply(lambda x: literal_eval(x))\n",
    "#data[METRIC] = data[METRIC].apply(lambda x: literal_eval(x))\n",
    "#data['item_id'] = data['item_id'].apply(lambda x: literal_eval(x))"
   ]
  },
  {
   "cell_type": "code",
   "execution_count": 39,
   "metadata": {},
   "outputs": [],
   "source": [
    "data['seconds_diff_min'] = data.user_id.apply(lambda uid: diff_min[uid])\n",
    "data['seconds_diff_max'] = data.user_id.apply(lambda uid: diff_max[uid])\n",
    "data['seconds_diff_mean'] = data.user_id.apply(lambda uid: diff_mean[uid])\n",
    "data['seconds_diff_q1'] = data.user_id.apply(lambda uid: diff_q1[uid])\n",
    "data['seconds_diff_q2'] = data.user_id.apply(lambda uid: diff_q2[uid])\n",
    "data['seconds_diff_q3'] = data.user_id.apply(lambda uid: diff_q3[uid])"
   ]
  },
  {
   "cell_type": "code",
   "execution_count": 40,
   "metadata": {},
   "outputs": [],
   "source": [
    "data.to_csv(DATA_PATH+'meta/data.csv', index=False)"
   ]
  },
  {
   "cell_type": "markdown",
   "metadata": {},
   "source": [
    "## 2 Domain specific features"
   ]
  },
  {
   "cell_type": "markdown",
   "metadata": {},
   "source": [
    "### 2.1 Item attributes extraction from database and anonymization"
   ]
  },
  {
   "cell_type": "code",
   "execution_count": 58,
   "metadata": {},
   "outputs": [],
   "source": [
    "conn = pg.connect(...secret...)"
   ]
  },
  {
   "cell_type": "code",
   "execution_count": 59,
   "metadata": {},
   "outputs": [
    {
     "name": "stdout",
     "output_type": "stream",
     "text": [
      "CPU times: user 1.31 s, sys: 144 ms, total: 1.45 s\n",
      "Wall time: 1.93 s\n"
     ]
    }
   ],
   "source": [
    "%%time\n",
    "items_info = psql.read_sql(\"\"\"\n",
    "SELECT\n",
    "    id AS product_id,\n",
    "    price,\n",
    "    brand_price_level,\n",
    "    brand,\n",
    "    SPLIT_PART(category, '>', 1) AS category1,\n",
    "    SPLIT_PART(category, '>', 2) AS category2,\n",
    "    SPLIT_PART(category, '>', 3) AS category3,\n",
    "    SPLIT_PART(category, '>', 4) AS category4,\n",
    "    category AS category_full,\n",
    "    color,\n",
    "    CASE \n",
    "        WHEN gender IS NULL THEN '-'\n",
    "        ELSE gender\n",
    "    END AS gender\n",
    "FROM\n",
    "    fstore.products\n",
    "\"\"\", conn)\n",
    "conn.close()"
   ]
  },
  {
   "cell_type": "code",
   "execution_count": 62,
   "metadata": {},
   "outputs": [],
   "source": [
    "def get_last_category(row):\n",
    "    if row.category4 != '':\n",
    "        return row.category4\n",
    "    if row.category3 != '':\n",
    "        return row.category3\n",
    "    if row.category2 != '':\n",
    "        return row.category2\n",
    "    if row.category1 != '':\n",
    "        return row.category1\n",
    "    \n",
    "items_info['category_last'] = items_info.apply(get_last_category, axis=1)"
   ]
  },
  {
   "cell_type": "code",
   "execution_count": 63,
   "metadata": {},
   "outputs": [],
   "source": [
    "df_categories = pd.DataFrame()\n",
    "df_categories['category'] = pd.concat([items_info.category1,\n",
    "                                       items_info.category2,\n",
    "                                       items_info.category3,\n",
    "                                       items_info.category4])\n",
    "df_categories['category_id'] = df_categories.category.astype(\"category\").cat.codes\n",
    "df_categories = df_categories.groupby('category')['category_id'].min()"
   ]
  },
  {
   "cell_type": "code",
   "execution_count": 64,
   "metadata": {},
   "outputs": [],
   "source": [
    "items_info['category1'] = items_info['category1'].apply(lambda category: df_categories[category])\n",
    "items_info['category2'] = items_info['category2'].apply(lambda category: df_categories[category])\n",
    "items_info['category3'] = items_info['category3'].apply(lambda category: df_categories[category])\n",
    "items_info['category4'] = items_info['category4'].apply(lambda category: df_categories[category])\n",
    "items_info['category_last'] = items_info['category_last'].apply(lambda category: df_categories[category])\n",
    "\n",
    "items_info['brand'] = items_info['brand'].astype(\"category\").cat.codes\n",
    "items_info['brand_price_level'] = items_info['brand_price_level'].astype(\"category\").cat.codes\n",
    "items_info['gender'] = items_info['gender'].astype(\"category\").cat.codes\n",
    "items_info['color'] = items_info['color'].astype(\"category\").cat.codes\n",
    "items_info['category_full'] = items_info['category_full'].astype(\"category\").cat.codes\n",
    "\n",
    "max_price = items_info.price.max()\n",
    "items_info['price'] = items_info['price'] / max_price"
   ]
  },
  {
   "cell_type": "code",
   "execution_count": 65,
   "metadata": {},
   "outputs": [],
   "source": [
    "raw_data = pd.read_csv(DATA_PATH+'/raw/data.csv')\n",
    "raw_data = raw_data.groupby('product_id')['item_id'].min().reset_index()\n",
    "\n",
    "items_info = pd.merge(raw_data, items_info, on='product_id', how='inner').drop('product_id', axis=1)"
   ]
  },
  {
   "cell_type": "code",
   "execution_count": 71,
   "metadata": {},
   "outputs": [],
   "source": [
    "items_info.set_index('item_id', inplace=True)"
   ]
  },
  {
   "cell_type": "markdown",
   "metadata": {},
   "source": [
    "### 2.2 Feature creation"
   ]
  },
  {
   "cell_type": "code",
   "execution_count": 49,
   "metadata": {},
   "outputs": [],
   "source": [
    "data = pd.read_csv(DATA_PATH+'meta/data.csv')\n",
    "#data['itemsets_intersect_cardinality'] = data['itemsets_intersect_cardinality'].apply(lambda x: literal_eval(x))\n",
    "#data[METRIC] = data[METRIC].apply(lambda x: literal_eval(x))\n",
    "data['item_id'] = data['item_id'].apply(lambda x: literal_eval(x))"
   ]
  },
  {
   "cell_type": "code",
   "execution_count": 98,
   "metadata": {},
   "outputs": [
    {
     "name": "stdout",
     "output_type": "stream",
     "text": [
      "CPU times: user 4.6 s, sys: 18.6 s, total: 23.2 s\n",
      "Wall time: 7min 29s\n"
     ]
    }
   ],
   "source": [
    "%%time\n",
    "num_cores = 12 #number of cores on your machine\n",
    "\n",
    "def parallelize_dataframe(df, func):\n",
    "    df_split = np.array_split(df, num_cores)\n",
    "    with Pool(num_cores) as p:\n",
    "        df = pd.concat(p.map(func, df_split))\n",
    "    return df\n",
    "\n",
    "def get_stats(row, attribute):\n",
    "    values = []\n",
    "    for iid in row.item_id:\n",
    "        if iid in items_info.index:\n",
    "            values.append(items_info.loc[iid][attribute])\n",
    "    if len(values) > 0:\n",
    "        return pd.Series((\n",
    "            min(values),\n",
    "            max(values),\n",
    "            np.mean(values),\n",
    "            np.quantile(values, q=.25),\n",
    "            np.quantile(values, q=.5),\n",
    "            np.quantile(values, q=.75)\n",
    "        ))\n",
    "    else:\n",
    "        return pd.Series((np.nan, np.nan, np.nan, np.nan, np.nan, np.nan))\n",
    "\n",
    "def get_nUnique_topCount_topCountNormalized(row, attribute):\n",
    "    counter = Counter()\n",
    "    for iid in row.item_id:\n",
    "        if iid in items_info.index:\n",
    "            counter[items_info.loc[iid][attribute]] += 1\n",
    "    if len(counter) > 0:\n",
    "        return pd.Series((len(counter), counter.most_common(1)[0][1], counter.most_common(1)[0][1] / sum(counter.values())))\n",
    "    else:\n",
    "        return pd.Series((1, 1, 1 / 1))\n",
    "\n",
    "def get_domain_based_features(df):\n",
    "    df[['ds_price_min',\n",
    "        'ds_price_max',\n",
    "        'ds_price_mean',\n",
    "        'ds_price_q1',\n",
    "        'ds_price_q2',\n",
    "        'ds_price_q3']] = df.apply(get_stats, args=('price',), axis=1)\n",
    "    for attr in ['brand', 'brand_price_level', 'category_full', 'category1', 'category2', 'category3', 'category4', 'category_last', 'gender', 'color']:\n",
    "        df[['ds_' + attr + '_nunique',\n",
    "              'ds_' + attr + '_top_count',\n",
    "              'ds_' + attr + '_top_count_normalized']] = df.apply(get_nUnique_topCount_topCountNormalized, args=(attr,), axis=1)\n",
    "    return df\n",
    "\n",
    "data = parallelize_dataframe(data, get_domain_based_features)"
   ]
  },
  {
   "cell_type": "code",
   "execution_count": 99,
   "metadata": {},
   "outputs": [
    {
     "data": {
      "text/plain": [
       "(49154, 111)"
      ]
     },
     "execution_count": 99,
     "metadata": {},
     "output_type": "execute_result"
    }
   ],
   "source": [
    "data.shape"
   ]
  },
  {
   "cell_type": "code",
   "execution_count": 100,
   "metadata": {},
   "outputs": [
    {
     "data": {
      "text/html": [
       "<div>\n",
       "<style scoped>\n",
       "    .dataframe tbody tr th:only-of-type {\n",
       "        vertical-align: middle;\n",
       "    }\n",
       "\n",
       "    .dataframe tbody tr th {\n",
       "        vertical-align: top;\n",
       "    }\n",
       "\n",
       "    .dataframe thead th {\n",
       "        text-align: right;\n",
       "    }\n",
       "</style>\n",
       "<table border=\"1\" class=\"dataframe\">\n",
       "  <thead>\n",
       "    <tr style=\"text-align: right;\">\n",
       "      <th></th>\n",
       "      <th>user_id</th>\n",
       "      <th>NDCG@100</th>\n",
       "      <th>class</th>\n",
       "      <th>user_id_</th>\n",
       "      <th>item_id</th>\n",
       "      <th>unique_items</th>\n",
       "      <th>itemsets_intersect_cardinality</th>\n",
       "      <th>users_sharing_1</th>\n",
       "      <th>users_sharing_1+</th>\n",
       "      <th>users_sharing_10%+</th>\n",
       "      <th>...</th>\n",
       "      <th>ds_category4_top_count_normalized</th>\n",
       "      <th>ds_category_last_nunique</th>\n",
       "      <th>ds_category_last_top_count</th>\n",
       "      <th>ds_category_last_top_count_normalized</th>\n",
       "      <th>ds_gender_nunique</th>\n",
       "      <th>ds_gender_top_count</th>\n",
       "      <th>ds_gender_top_count_normalized</th>\n",
       "      <th>ds_color_nunique</th>\n",
       "      <th>ds_color_top_count</th>\n",
       "      <th>ds_color_top_count_normalized</th>\n",
       "    </tr>\n",
       "  </thead>\n",
       "  <tbody>\n",
       "    <tr>\n",
       "      <th>0</th>\n",
       "      <td>2</td>\n",
       "      <td>[[0.056316753775798256, 'popular'], [0.0541202...</td>\n",
       "      <td>popular</td>\n",
       "      <td>2</td>\n",
       "      <td>[13048, 21368, 29352, 33296, 33304, 33972]</td>\n",
       "      <td>6</td>\n",
       "      <td>[1, 1, 1, 1, 2, 1, 1, 1, 1, 1, 1, 1, 1, 1, 1, ...</td>\n",
       "      <td>994</td>\n",
       "      <td>1071</td>\n",
       "      <td>1071</td>\n",
       "      <td>...</td>\n",
       "      <td>1.000000</td>\n",
       "      <td>2.0</td>\n",
       "      <td>5.0</td>\n",
       "      <td>0.833333</td>\n",
       "      <td>1.0</td>\n",
       "      <td>6.0</td>\n",
       "      <td>1.0</td>\n",
       "      <td>4.0</td>\n",
       "      <td>3.0</td>\n",
       "      <td>0.500000</td>\n",
       "    </tr>\n",
       "    <tr>\n",
       "      <th>1</th>\n",
       "      <td>3</td>\n",
       "      <td>[[0.06435448568843775, 'itemknn'], [0.06306803...</td>\n",
       "      <td>itemknn</td>\n",
       "      <td>3</td>\n",
       "      <td>[3459, 5000, 8440, 14042, 19648, 21308, 23532,...</td>\n",
       "      <td>38</td>\n",
       "      <td>[1, 2, 1, 1, 1, 1, 1, 1, 1, 1, 1, 1, 3, 1, 1, ...</td>\n",
       "      <td>11984</td>\n",
       "      <td>16060</td>\n",
       "      <td>393</td>\n",
       "      <td>...</td>\n",
       "      <td>0.368421</td>\n",
       "      <td>4.0</td>\n",
       "      <td>14.0</td>\n",
       "      <td>0.368421</td>\n",
       "      <td>1.0</td>\n",
       "      <td>38.0</td>\n",
       "      <td>1.0</td>\n",
       "      <td>11.0</td>\n",
       "      <td>12.0</td>\n",
       "      <td>0.315789</td>\n",
       "    </tr>\n",
       "    <tr>\n",
       "      <th>2</th>\n",
       "      <td>4</td>\n",
       "      <td>[[0.412416442009166, 'bpr'], [0.23537031668463...</td>\n",
       "      <td>bpr</td>\n",
       "      <td>4</td>\n",
       "      <td>[14895, 19629, 24096]</td>\n",
       "      <td>3</td>\n",
       "      <td>[1, 1, 1, 1, 1, 1, 1, 1, 2, 1, 2, 1, 1, 1, 1, ...</td>\n",
       "      <td>550</td>\n",
       "      <td>566</td>\n",
       "      <td>566</td>\n",
       "      <td>...</td>\n",
       "      <td>1.000000</td>\n",
       "      <td>1.0</td>\n",
       "      <td>3.0</td>\n",
       "      <td>1.000000</td>\n",
       "      <td>1.0</td>\n",
       "      <td>3.0</td>\n",
       "      <td>1.0</td>\n",
       "      <td>3.0</td>\n",
       "      <td>1.0</td>\n",
       "      <td>0.333333</td>\n",
       "    </tr>\n",
       "    <tr>\n",
       "      <th>3</th>\n",
       "      <td>7</td>\n",
       "      <td>[[0.21303136023417987, 'als'], [0.190475397315...</td>\n",
       "      <td>als</td>\n",
       "      <td>7</td>\n",
       "      <td>[26187]</td>\n",
       "      <td>1</td>\n",
       "      <td>[1, 1, 1, 1, 1, 1, 1, 1, 1, 1, 1, 1, 1, 1, 1, ...</td>\n",
       "      <td>1146</td>\n",
       "      <td>1146</td>\n",
       "      <td>1146</td>\n",
       "      <td>...</td>\n",
       "      <td>1.000000</td>\n",
       "      <td>1.0</td>\n",
       "      <td>1.0</td>\n",
       "      <td>1.000000</td>\n",
       "      <td>1.0</td>\n",
       "      <td>1.0</td>\n",
       "      <td>1.0</td>\n",
       "      <td>1.0</td>\n",
       "      <td>1.0</td>\n",
       "      <td>1.000000</td>\n",
       "    </tr>\n",
       "    <tr>\n",
       "      <th>4</th>\n",
       "      <td>9</td>\n",
       "      <td>[[0.08314885321150761, 'als'], [0.066742844746...</td>\n",
       "      <td>als</td>\n",
       "      <td>9</td>\n",
       "      <td>[9491, 12466, 14655, 16324, 19636, 19658, 2147...</td>\n",
       "      <td>28</td>\n",
       "      <td>[1, 2, 2, 2, 1, 1, 1, 2, 1, 1, 1, 1, 1, 1, 1, ...</td>\n",
       "      <td>6505</td>\n",
       "      <td>7422</td>\n",
       "      <td>139</td>\n",
       "      <td>...</td>\n",
       "      <td>0.464286</td>\n",
       "      <td>6.0</td>\n",
       "      <td>13.0</td>\n",
       "      <td>0.464286</td>\n",
       "      <td>1.0</td>\n",
       "      <td>28.0</td>\n",
       "      <td>1.0</td>\n",
       "      <td>13.0</td>\n",
       "      <td>5.0</td>\n",
       "      <td>0.178571</td>\n",
       "    </tr>\n",
       "  </tbody>\n",
       "</table>\n",
       "<p>5 rows × 111 columns</p>\n",
       "</div>"
      ],
      "text/plain": [
       "   user_id                                           NDCG@100    class  \\\n",
       "0        2  [[0.056316753775798256, 'popular'], [0.0541202...  popular   \n",
       "1        3  [[0.06435448568843775, 'itemknn'], [0.06306803...  itemknn   \n",
       "2        4  [[0.412416442009166, 'bpr'], [0.23537031668463...      bpr   \n",
       "3        7  [[0.21303136023417987, 'als'], [0.190475397315...      als   \n",
       "4        9  [[0.08314885321150761, 'als'], [0.066742844746...      als   \n",
       "\n",
       "   user_id_                                            item_id  unique_items  \\\n",
       "0         2         [13048, 21368, 29352, 33296, 33304, 33972]             6   \n",
       "1         3  [3459, 5000, 8440, 14042, 19648, 21308, 23532,...            38   \n",
       "2         4                              [14895, 19629, 24096]             3   \n",
       "3         7                                            [26187]             1   \n",
       "4         9  [9491, 12466, 14655, 16324, 19636, 19658, 2147...            28   \n",
       "\n",
       "                      itemsets_intersect_cardinality  users_sharing_1  \\\n",
       "0  [1, 1, 1, 1, 2, 1, 1, 1, 1, 1, 1, 1, 1, 1, 1, ...              994   \n",
       "1  [1, 2, 1, 1, 1, 1, 1, 1, 1, 1, 1, 1, 3, 1, 1, ...            11984   \n",
       "2  [1, 1, 1, 1, 1, 1, 1, 1, 2, 1, 2, 1, 1, 1, 1, ...              550   \n",
       "3  [1, 1, 1, 1, 1, 1, 1, 1, 1, 1, 1, 1, 1, 1, 1, ...             1146   \n",
       "4  [1, 2, 2, 2, 1, 1, 1, 2, 1, 1, 1, 1, 1, 1, 1, ...             6505   \n",
       "\n",
       "   users_sharing_1+  users_sharing_10%+  ...  \\\n",
       "0              1071                1071  ...   \n",
       "1             16060                 393  ...   \n",
       "2               566                 566  ...   \n",
       "3              1146                1146  ...   \n",
       "4              7422                 139  ...   \n",
       "\n",
       "   ds_category4_top_count_normalized  ds_category_last_nunique  \\\n",
       "0                           1.000000                       2.0   \n",
       "1                           0.368421                       4.0   \n",
       "2                           1.000000                       1.0   \n",
       "3                           1.000000                       1.0   \n",
       "4                           0.464286                       6.0   \n",
       "\n",
       "   ds_category_last_top_count  ds_category_last_top_count_normalized  \\\n",
       "0                         5.0                               0.833333   \n",
       "1                        14.0                               0.368421   \n",
       "2                         3.0                               1.000000   \n",
       "3                         1.0                               1.000000   \n",
       "4                        13.0                               0.464286   \n",
       "\n",
       "   ds_gender_nunique  ds_gender_top_count  ds_gender_top_count_normalized  \\\n",
       "0                1.0                  6.0                             1.0   \n",
       "1                1.0                 38.0                             1.0   \n",
       "2                1.0                  3.0                             1.0   \n",
       "3                1.0                  1.0                             1.0   \n",
       "4                1.0                 28.0                             1.0   \n",
       "\n",
       "   ds_color_nunique  ds_color_top_count  ds_color_top_count_normalized  \n",
       "0               4.0                 3.0                       0.500000  \n",
       "1              11.0                12.0                       0.315789  \n",
       "2               3.0                 1.0                       0.333333  \n",
       "3               1.0                 1.0                       1.000000  \n",
       "4              13.0                 5.0                       0.178571  \n",
       "\n",
       "[5 rows x 111 columns]"
      ]
     },
     "execution_count": 100,
     "metadata": {},
     "output_type": "execute_result"
    }
   ],
   "source": [
    "data.head()"
   ]
  },
  {
   "cell_type": "code",
   "execution_count": 110,
   "metadata": {},
   "outputs": [
    {
     "data": {
      "text/plain": [
       "63"
      ]
     },
     "execution_count": 110,
     "metadata": {},
     "output_type": "execute_result"
    }
   ],
   "source": [
    "len(data[data.ds_price_min.isna()])"
   ]
  },
  {
   "cell_type": "code",
   "execution_count": 112,
   "metadata": {},
   "outputs": [],
   "source": [
    "price_means = {\n",
    "    'ds_price_min': data['ds_price_min'].mean(),\n",
    "    'ds_price_max': data['ds_price_max'].mean(),\n",
    "    'ds_price_mean': data['ds_price_mean'].mean(),\n",
    "    'ds_price_q1': data['ds_price_q1'].mean(),\n",
    "    'ds_price_q2': data['ds_price_q2'].mean(),\n",
    "    'ds_price_q3': data['ds_price_q3'].mean()\n",
    "}"
   ]
  },
  {
   "cell_type": "code",
   "execution_count": 117,
   "metadata": {},
   "outputs": [],
   "source": [
    "data.fillna(price_means, inplace=True)"
   ]
  },
  {
   "cell_type": "code",
   "execution_count": 121,
   "metadata": {},
   "outputs": [],
   "source": [
    "data.drop(columns=[\n",
    "    # lists:\n",
    "    METRIC, 'user_id_', 'item_id', 'itemsets_intersect_cardinality', 'item_appearance', 'g_depth_1_ids', 'g_depth_2_ids', 'g_depth_3_ids',\n",
    "    # ones\n",
    "    'g_depth_0_vertices', 'g_depth_1_density_0',\n",
    "    # = unique_items\n",
    "    'g_depth_1_edges_0', 'g_depth_1_vertices', 'g_depth_1_possible_edges_0'\n",
    "], inplace=True)"
   ]
  },
  {
   "cell_type": "code",
   "execution_count": 122,
   "metadata": {},
   "outputs": [],
   "source": [
    "data.to_csv(DATA_PATH+'meta/data.csv', index=False)"
   ]
  }
 ],
 "metadata": {
  "kernelspec": {
   "display_name": "Python 3.6",
   "language": "python",
   "name": "python3.6"
  },
  "language_info": {
   "codemirror_mode": {
    "name": "ipython",
    "version": 3
   },
   "file_extension": ".py",
   "mimetype": "text/x-python",
   "name": "python",
   "nbconvert_exporter": "python",
   "pygments_lexer": "ipython3",
   "version": "3.6.9"
  }
 },
 "nbformat": 4,
 "nbformat_minor": 2
}
