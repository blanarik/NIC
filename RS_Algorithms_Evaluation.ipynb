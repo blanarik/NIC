{
 "cells": [
  {
   "cell_type": "markdown",
   "metadata": {},
   "source": [
    "# Base-Level Algorithms Evaluation\n",
    "\n",
    "In this notebook, recommendations obtained by base-level algorithms are evaluated (per user) using future data of test users.\n",
    "\n",
    "This notebook is structured as follows:\n",
    "\n",
    "    1 Data preparation\n",
    "        1.1 Preparing test users\n",
    "        1.2 Loading recommendations\n",
    "        1.3 Recommendations evaluation\n",
    "    2 Performance analysis\n",
    "        2.1 NDCG@100\n",
    "        2.2 MRR@100\n",
    "        2.3 P@10\n",
    "        2.4 R@10"
   ]
  },
  {
   "cell_type": "code",
   "execution_count": 1,
   "metadata": {},
   "outputs": [],
   "source": [
    "import pandas as pd\n",
    "import numpy as np\n",
    "import matplotlib.pyplot as plt\n",
    "from pylab import rcParams\n",
    "from ast import literal_eval\n",
    "%matplotlib inline"
   ]
  },
  {
   "cell_type": "code",
   "execution_count": 2,
   "metadata": {},
   "outputs": [],
   "source": [
    "# set default figsize\n",
    "plt.rcParams['figure.figsize'] = [12, 4]"
   ]
  },
  {
   "cell_type": "code",
   "execution_count": 3,
   "metadata": {},
   "outputs": [],
   "source": [
    "DATA_PATH = 'data/fstore/'"
   ]
  },
  {
   "cell_type": "markdown",
   "metadata": {},
   "source": [
    "## 1 Data preparation"
   ]
  },
  {
   "cell_type": "markdown",
   "metadata": {},
   "source": [
    "### 1.1 Preparing test users"
   ]
  },
  {
   "cell_type": "code",
   "execution_count": 4,
   "metadata": {},
   "outputs": [
    {
     "data": {
      "text/plain": [
       "user_id\n",
       "0                                              [30958]\n",
       "1                                              [31818]\n",
       "2                  [19538, 22316, 25787, 31821, 35393]\n",
       "3                         [26174, 30557, 30607, 34740]\n",
       "4    [3845, 6921, 11083, 14902, 19632, 22967, 25219...\n",
       "Name: item_id, dtype: object"
      ]
     },
     "execution_count": 4,
     "metadata": {},
     "output_type": "execute_result"
    }
   ],
   "source": [
    "test = pd.read_csv(DATA_PATH+'raw/future.csv')\n",
    "test = test[test.user_eval_set=='test']\n",
    "test = test.groupby('user_id')['item_id'].apply(list)\n",
    "test.head()"
   ]
  },
  {
   "cell_type": "code",
   "execution_count": 5,
   "metadata": {},
   "outputs": [
    {
     "data": {
      "image/png": "[encoded data removed]",
      "text/plain": [
       "<Figure size 864x288 with 1 Axes>"
      ]
     },
     "metadata": {
      "needs_background": "light"
     },
     "output_type": "display_data"
    }
   ],
   "source": [
    "aux = test.apply(lambda x: len(x)).value_counts().sort_index()\n",
    "aux.plot(kind='bar')\n",
    "plt.xlim(-0.5, len(aux)-.5)\n",
    "plt.title('Distribution of users by relevant items (test set)')\n",
    "plt.xlabel('Number of relevant items')\n",
    "plt.ylabel('Users')\n",
    "plt.show()"
   ]
  },
  {
   "cell_type": "markdown",
   "metadata": {},
   "source": [
    "### 1.2 Loading recommendations"
   ]
  },
  {
   "cell_type": "code",
   "execution_count": 6,
   "metadata": {},
   "outputs": [],
   "source": [
    "alg_list = [\n",
    "    'popular',\n",
    "    'itemknn',\n",
    "    'userknn',\n",
    "    'als',\n",
    "    'bpr'\n",
    "]\n",
    "alg_rec = {}\n",
    "for alg in alg_list:\n",
    "    alg_rec[alg] = pd.read_csv(DATA_PATH+'predictions/' + alg + '.csv')\n",
    "    alg_rec[alg].set_index('user_id', inplace=True)"
   ]
  },
  {
   "cell_type": "markdown",
   "metadata": {},
   "source": [
    "### 1.3 Recommendations evaluation"
   ]
  },
  {
   "cell_type": "code",
   "execution_count": 7,
   "metadata": {},
   "outputs": [
    {
     "name": "stdout",
     "output_type": "stream",
     "text": [
      "CPU times: user 32min 43s, sys: 4.78 s, total: 32min 48s\n",
      "Wall time: 32min 49s\n"
     ]
    }
   ],
   "source": [
    "%%time\n",
    "alg_perf = []\n",
    "for u in test.index.values:\n",
    "    \n",
    "    perf_p_at_10 = []\n",
    "    perf_r_at_10 = []\n",
    "    perf_rr_at_100 = []\n",
    "    perf_ndcg_at_100 = []\n",
    "    \n",
    "    for alg in alg_list:\n",
    "        rec_list_relevance = [1 if x in test[u] else 0 for x in literal_eval(alg_rec[alg].loc[u].top100)]\n",
    "        \n",
    "        # P@10\n",
    "        result = sum(rec_list_relevance[:10])/10\n",
    "        perf_p_at_10.append([result, alg])\n",
    "        \n",
    "        # R@10\n",
    "        result = sum(rec_list_relevance[:10])/len(test[u])\n",
    "        perf_r_at_10.append([result, alg])\n",
    "        \n",
    "        # RR@100\n",
    "        result = 0\n",
    "        if 1 in rec_list_relevance:\n",
    "            result = 1/(1+rec_list_relevance.index(1))\n",
    "        perf_rr_at_100.append([result, alg])\n",
    "        \n",
    "        # NDCG@100\n",
    "        dcg = 0\n",
    "        for i in range(len(rec_list_relevance)):\n",
    "            dcg += rec_list_relevance[i]/np.log2(2+i)        \n",
    "        idcg = 0\n",
    "        for i in range(len(test[u])):\n",
    "            idcg += 1/np.log2(2+i)\n",
    "        perf_ndcg_at_100.append([dcg/idcg, alg])\n",
    "        \n",
    "    perf_p_at_10.sort(reverse=True)\n",
    "    perf_r_at_10.sort(reverse=True)\n",
    "    perf_rr_at_100.sort(reverse=True)\n",
    "    perf_ndcg_at_100.sort(reverse=True)\n",
    "    alg_perf.append({\n",
    "        'user_id': u,\n",
    "        'P@10': perf_p_at_10,\n",
    "        'R@10': perf_r_at_10,\n",
    "        'RR@100': perf_rr_at_100,\n",
    "        'NDCG@100': perf_ndcg_at_100\n",
    "    })\n",
    "    \n",
    "perf = pd.DataFrame(alg_perf)"
   ]
  },
  {
   "cell_type": "code",
   "execution_count": 8,
   "metadata": {},
   "outputs": [],
   "source": [
    "perf.to_csv(DATA_PATH+'rs_performance.csv', index=False)"
   ]
  },
  {
   "cell_type": "markdown",
   "metadata": {},
   "source": [
    "## 2 Performance analysis"
   ]
  },
  {
   "cell_type": "code",
   "execution_count": 9,
   "metadata": {},
   "outputs": [
    {
     "data": {
      "text/html": [
       "<div>\n",
       "<style scoped>\n",
       "    .dataframe tbody tr th:only-of-type {\n",
       "        vertical-align: middle;\n",
       "    }\n",
       "\n",
       "    .dataframe tbody tr th {\n",
       "        vertical-align: top;\n",
       "    }\n",
       "\n",
       "    .dataframe thead th {\n",
       "        text-align: right;\n",
       "    }\n",
       "</style>\n",
       "<table border=\"1\" class=\"dataframe\">\n",
       "  <thead>\n",
       "    <tr style=\"text-align: right;\">\n",
       "      <th></th>\n",
       "      <th>NDCG@100</th>\n",
       "      <th>P@10</th>\n",
       "      <th>R@10</th>\n",
       "      <th>RR@100</th>\n",
       "      <th>user_id</th>\n",
       "    </tr>\n",
       "  </thead>\n",
       "  <tbody>\n",
       "    <tr>\n",
       "      <th>0</th>\n",
       "      <td>[[0.0, userknn], [0.0, popular], [0.0, itemknn...</td>\n",
       "      <td>[[0.0, userknn], [0.0, popular], [0.0, itemknn...</td>\n",
       "      <td>[[0.0, userknn], [0.0, popular], [0.0, itemknn...</td>\n",
       "      <td>[[0, userknn], [0, popular], [0, itemknn], [0,...</td>\n",
       "      <td>0</td>\n",
       "    </tr>\n",
       "    <tr>\n",
       "      <th>1</th>\n",
       "      <td>[[0.0, userknn], [0.0, popular], [0.0, itemknn...</td>\n",
       "      <td>[[0.0, userknn], [0.0, popular], [0.0, itemknn...</td>\n",
       "      <td>[[0.0, userknn], [0.0, popular], [0.0, itemknn...</td>\n",
       "      <td>[[0, userknn], [0, popular], [0, itemknn], [0,...</td>\n",
       "      <td>1</td>\n",
       "    </tr>\n",
       "    <tr>\n",
       "      <th>2</th>\n",
       "      <td>[[0.056316753775798256, popular], [0.054120274...</td>\n",
       "      <td>[[0.0, userknn], [0.0, popular], [0.0, itemknn...</td>\n",
       "      <td>[[0.0, userknn], [0.0, popular], [0.0, itemknn...</td>\n",
       "      <td>[[0.015625, popular], [0.013157894736842105, b...</td>\n",
       "      <td>2</td>\n",
       "    </tr>\n",
       "    <tr>\n",
       "      <th>3</th>\n",
       "      <td>[[0.06435448568843775, itemknn], [0.0630680314...</td>\n",
       "      <td>[[0.0, userknn], [0.0, popular], [0.0, itemknn...</td>\n",
       "      <td>[[0.0, userknn], [0.0, popular], [0.0, itemknn...</td>\n",
       "      <td>[[0.015151515151515152, itemknn], [0.013888888...</td>\n",
       "      <td>3</td>\n",
       "    </tr>\n",
       "    <tr>\n",
       "      <th>4</th>\n",
       "      <td>[[0.412416442009166, bpr], [0.2353703166846384...</td>\n",
       "      <td>[[0.2, bpr], [0.1, itemknn], [0.1, als], [0.0,...</td>\n",
       "      <td>[[0.16666666666666666, bpr], [0.08333333333333...</td>\n",
       "      <td>[[0.3333333333333333, als], [0.2, bpr], [0.142...</td>\n",
       "      <td>4</td>\n",
       "    </tr>\n",
       "  </tbody>\n",
       "</table>\n",
       "</div>"
      ],
      "text/plain": [
       "                                            NDCG@100  \\\n",
       "0  [[0.0, userknn], [0.0, popular], [0.0, itemknn...   \n",
       "1  [[0.0, userknn], [0.0, popular], [0.0, itemknn...   \n",
       "2  [[0.056316753775798256, popular], [0.054120274...   \n",
       "3  [[0.06435448568843775, itemknn], [0.0630680314...   \n",
       "4  [[0.412416442009166, bpr], [0.2353703166846384...   \n",
       "\n",
       "                                                P@10  \\\n",
       "0  [[0.0, userknn], [0.0, popular], [0.0, itemknn...   \n",
       "1  [[0.0, userknn], [0.0, popular], [0.0, itemknn...   \n",
       "2  [[0.0, userknn], [0.0, popular], [0.0, itemknn...   \n",
       "3  [[0.0, userknn], [0.0, popular], [0.0, itemknn...   \n",
       "4  [[0.2, bpr], [0.1, itemknn], [0.1, als], [0.0,...   \n",
       "\n",
       "                                                R@10  \\\n",
       "0  [[0.0, userknn], [0.0, popular], [0.0, itemknn...   \n",
       "1  [[0.0, userknn], [0.0, popular], [0.0, itemknn...   \n",
       "2  [[0.0, userknn], [0.0, popular], [0.0, itemknn...   \n",
       "3  [[0.0, userknn], [0.0, popular], [0.0, itemknn...   \n",
       "4  [[0.16666666666666666, bpr], [0.08333333333333...   \n",
       "\n",
       "                                              RR@100  user_id  \n",
       "0  [[0, userknn], [0, popular], [0, itemknn], [0,...        0  \n",
       "1  [[0, userknn], [0, popular], [0, itemknn], [0,...        1  \n",
       "2  [[0.015625, popular], [0.013157894736842105, b...        2  \n",
       "3  [[0.015151515151515152, itemknn], [0.013888888...        3  \n",
       "4  [[0.3333333333333333, als], [0.2, bpr], [0.142...        4  "
      ]
     },
     "execution_count": 9,
     "metadata": {},
     "output_type": "execute_result"
    }
   ],
   "source": [
    "perf.head()"
   ]
  },
  {
   "cell_type": "markdown",
   "metadata": {},
   "source": [
    "### 2.1 NDCG@100"
   ]
  },
  {
   "cell_type": "code",
   "execution_count": 10,
   "metadata": {},
   "outputs": [
    {
     "data": {
      "text/plain": [
       "49154"
      ]
     },
     "execution_count": 10,
     "metadata": {},
     "output_type": "execute_result"
    }
   ],
   "source": [
    "# how many users have optimal algorithm\n",
    "metric = 'NDCG@100'\n",
    "perf[metric].apply(lambda x: x[0][0] > 0).value_counts()[True]"
   ]
  },
  {
   "cell_type": "code",
   "execution_count": 11,
   "metadata": {},
   "outputs": [
    {
     "data": {
      "text/plain": [
       "[]"
      ]
     },
     "execution_count": 11,
     "metadata": {},
     "output_type": "execute_result"
    },
    {
     "data": {
      "image/png": "[encoded data removed]",
      "text/plain": [
       "<Figure size 864x288 with 1 Axes>"
      ]
     },
     "metadata": {
      "needs_background": "light"
     },
     "output_type": "display_data"
    }
   ],
   "source": [
    "ax = perf[perf[metric].apply(lambda x: x[0][0] > 0)][metric].apply(lambda x: x[0][1]).value_counts().plot(kind='bar')\n",
    "plt.title('Distribution of users by optimal algorithm (' + metric + ')')\n",
    "for p in ax.patches:\n",
    "    width, height = p.get_width(), p.get_height()\n",
    "    x, y = p.get_xy() \n",
    "    ax.annotate(str(height) + ' (' + str(int(round(100*height/perf[metric].apply(lambda x: x[0][0] > 0).value_counts()[True])))\n",
    "                + '%)', (x + width/2, y + height + 10.14), ha='center')\n",
    "plt.plot()"
   ]
  },
  {
   "cell_type": "code",
   "execution_count": 12,
   "metadata": {},
   "outputs": [
    {
     "data": {
      "text/plain": [
       "False    48123\n",
       "True      1031\n",
       "Name: NDCG@100, dtype: int64"
      ]
     },
     "execution_count": 12,
     "metadata": {},
     "output_type": "execute_result"
    }
   ],
   "source": [
    "# how many users have multiple top performing algorithms (issue not considered in above chart)\n",
    "perf[perf[metric].apply(lambda x: x[0][0] > 0)][metric].apply(lambda x: x[0][0] == x[1][0]).value_counts()"
   ]
  },
  {
   "cell_type": "code",
   "execution_count": 13,
   "metadata": {
    "scrolled": false
   },
   "outputs": [
    {
     "data": {
      "text/html": [
       "<div>\n",
       "<style scoped>\n",
       "    .dataframe tbody tr th:only-of-type {\n",
       "        vertical-align: middle;\n",
       "    }\n",
       "\n",
       "    .dataframe tbody tr th {\n",
       "        vertical-align: top;\n",
       "    }\n",
       "\n",
       "    .dataframe thead th {\n",
       "        text-align: right;\n",
       "    }\n",
       "</style>\n",
       "<table border=\"1\" class=\"dataframe\">\n",
       "  <thead>\n",
       "    <tr style=\"text-align: right;\">\n",
       "      <th></th>\n",
       "      <th>algorithm</th>\n",
       "      <th>mean NDCG@100</th>\n",
       "      <th>nonzero count NDCG@100</th>\n",
       "    </tr>\n",
       "  </thead>\n",
       "  <tbody>\n",
       "    <tr>\n",
       "      <th>4</th>\n",
       "      <td>bpr</td>\n",
       "      <td>0.099885</td>\n",
       "      <td>26924</td>\n",
       "    </tr>\n",
       "    <tr>\n",
       "      <th>1</th>\n",
       "      <td>itemknn</td>\n",
       "      <td>0.089721</td>\n",
       "      <td>24262</td>\n",
       "    </tr>\n",
       "    <tr>\n",
       "      <th>3</th>\n",
       "      <td>als</td>\n",
       "      <td>0.088372</td>\n",
       "      <td>27034</td>\n",
       "    </tr>\n",
       "    <tr>\n",
       "      <th>0</th>\n",
       "      <td>popular</td>\n",
       "      <td>0.083950</td>\n",
       "      <td>26285</td>\n",
       "    </tr>\n",
       "    <tr>\n",
       "      <th>2</th>\n",
       "      <td>userknn</td>\n",
       "      <td>0.062427</td>\n",
       "      <td>21699</td>\n",
       "    </tr>\n",
       "  </tbody>\n",
       "</table>\n",
       "</div>"
      ],
      "text/plain": [
       "  algorithm  mean NDCG@100  nonzero count NDCG@100\n",
       "4       bpr       0.099885                   26924\n",
       "1   itemknn       0.089721                   24262\n",
       "3       als       0.088372                   27034\n",
       "0   popular       0.083950                   26285\n",
       "2   userknn       0.062427                   21699"
      ]
     },
     "execution_count": 13,
     "metadata": {},
     "output_type": "execute_result"
    }
   ],
   "source": [
    "# average performance of algorithms (only users with optimal algorithm)\n",
    "mean_perf = []\n",
    "for alg in alg_list:\n",
    "    mean_perf.append({\n",
    "        'algorithm': alg,\n",
    "        'mean '+metric: perf[perf[metric].apply(lambda x: x[0][0] > 0)][metric]\\\n",
    "                            .apply(lambda x: [a for a in x if a[1] == alg][0][0]).mean(),\n",
    "        'nonzero count '+metric: perf[perf[metric].apply(lambda x: x[0][0] > 0)][metric]\\\n",
    "                            .apply(lambda x: len([1 for a in x if a[0] > 0 and a[1] == alg])).sum()\n",
    "        })\n",
    "    \n",
    "pd.DataFrame(mean_perf).sort_values(by='mean '+metric, ascending=False)"
   ]
  },
  {
   "cell_type": "code",
   "execution_count": 14,
   "metadata": {
    "scrolled": false
   },
   "outputs": [
    {
     "data": {
      "text/html": [
       "<div>\n",
       "<style scoped>\n",
       "    .dataframe tbody tr th:only-of-type {\n",
       "        vertical-align: middle;\n",
       "    }\n",
       "\n",
       "    .dataframe tbody tr th {\n",
       "        vertical-align: top;\n",
       "    }\n",
       "\n",
       "    .dataframe thead th {\n",
       "        text-align: right;\n",
       "    }\n",
       "</style>\n",
       "<table border=\"1\" class=\"dataframe\">\n",
       "  <thead>\n",
       "    <tr style=\"text-align: right;\">\n",
       "      <th></th>\n",
       "      <th>algorithm</th>\n",
       "      <th>count of users with nonzero NDCG@100</th>\n",
       "      <th>mean NDCG@100 (all users)</th>\n",
       "      <th>mean NDCG@100 (users with ANY optimal alg)</th>\n",
       "      <th>mean NDCG@100 (users with THIS optimal alg)</th>\n",
       "    </tr>\n",
       "  </thead>\n",
       "  <tbody>\n",
       "    <tr>\n",
       "      <th>4</th>\n",
       "      <td>bpr</td>\n",
       "      <td>26924</td>\n",
       "      <td>0.056535</td>\n",
       "      <td>0.099885</td>\n",
       "      <td>0.209459</td>\n",
       "    </tr>\n",
       "    <tr>\n",
       "      <th>1</th>\n",
       "      <td>itemknn</td>\n",
       "      <td>24262</td>\n",
       "      <td>0.050782</td>\n",
       "      <td>0.089721</td>\n",
       "      <td>0.270284</td>\n",
       "    </tr>\n",
       "    <tr>\n",
       "      <th>3</th>\n",
       "      <td>als</td>\n",
       "      <td>27034</td>\n",
       "      <td>0.050019</td>\n",
       "      <td>0.088372</td>\n",
       "      <td>0.200347</td>\n",
       "    </tr>\n",
       "    <tr>\n",
       "      <th>0</th>\n",
       "      <td>popular</td>\n",
       "      <td>26285</td>\n",
       "      <td>0.047516</td>\n",
       "      <td>0.083950</td>\n",
       "      <td>0.221236</td>\n",
       "    </tr>\n",
       "    <tr>\n",
       "      <th>2</th>\n",
       "      <td>userknn</td>\n",
       "      <td>21699</td>\n",
       "      <td>0.035334</td>\n",
       "      <td>0.062427</td>\n",
       "      <td>0.197550</td>\n",
       "    </tr>\n",
       "  </tbody>\n",
       "</table>\n",
       "</div>"
      ],
      "text/plain": [
       "  algorithm  count of users with nonzero NDCG@100  mean NDCG@100 (all users)  \\\n",
       "4       bpr                                 26924                   0.056535   \n",
       "1   itemknn                                 24262                   0.050782   \n",
       "3       als                                 27034                   0.050019   \n",
       "0   popular                                 26285                   0.047516   \n",
       "2   userknn                                 21699                   0.035334   \n",
       "\n",
       "   mean NDCG@100 (users with ANY optimal alg)  \\\n",
       "4                                    0.099885   \n",
       "1                                    0.089721   \n",
       "3                                    0.088372   \n",
       "0                                    0.083950   \n",
       "2                                    0.062427   \n",
       "\n",
       "   mean NDCG@100 (users with THIS optimal alg)  \n",
       "4                                     0.209459  \n",
       "1                                     0.270284  \n",
       "3                                     0.200347  \n",
       "0                                     0.221236  \n",
       "2                                     0.197550  "
      ]
     },
     "execution_count": 14,
     "metadata": {},
     "output_type": "execute_result"
    }
   ],
   "source": [
    "# average performance of algorithms (only users with optimal algorithm)\n",
    "mean_perf = []\n",
    "for alg in alg_list:\n",
    "    mean_perf.append({\n",
    "        'algorithm': alg,\n",
    "        'count of users with nonzero '+metric: perf[perf[metric].apply(lambda x: x[0][0] > 0)][metric]\\\n",
    "                    .apply(lambda x: len([1 for a in x if a[0] > 0 and a[1] == alg])).sum(),\n",
    "        'mean '+metric+' (users with THIS optimal alg)': perf[perf[metric]\\\n",
    "                    .apply(lambda x: x[0][0] > 0 and x[0][1] == alg)][metric].apply(lambda x: x[0][0]).mean(),\n",
    "        'mean '+metric+' (users with ANY optimal alg)': perf[perf[metric].apply(lambda x: x[0][0] > 0)][metric]\\\n",
    "                    .apply(lambda x: [a for a in x if a[1] == alg][0][0]).mean(),\n",
    "        'mean '+metric+' (all users)': perf[metric]\\\n",
    "                    .apply(lambda x: [a for a in x if a[1] == alg][0][0]).mean()\n",
    "        })\n",
    "    \n",
    "mean_perf = pd.DataFrame(mean_perf).sort_values(by='mean '+metric+' (all users)', ascending=False)\n",
    "mean_perf"
   ]
  },
  {
   "cell_type": "code",
   "execution_count": 15,
   "metadata": {},
   "outputs": [
    {
     "name": "stdout",
     "output_type": "stream",
     "text": [
      "Users with ANY optimal alg - mean NDCG@100 :\n",
      "---------------------------------------------------------------\n",
      "Teoretical maximum that can be achieved with perfect classifier: 0.217542097252615\n",
      "Baseline - best single algorithm:  0.09988541733021204\n",
      "Possible relative improvement:  117.79 %\n"
     ]
    }
   ],
   "source": [
    "print('Users with ANY optimal alg - mean', metric, ':')\n",
    "print('---------------------------------------------------------------')\n",
    "\n",
    "print('Teoretical maximum that can be achieved with perfect classifier:',\n",
    "    perf[perf[metric].apply(lambda x: x[0][0] > 0)][metric].apply(lambda x: x[0][0]).mean())\n",
    "\n",
    "print('Baseline - best single algorithm: ',\n",
    "      mean_perf['mean '+metric+' (users with ANY optimal alg)'].max())\n",
    "\n",
    "print('Possible relative improvement: ', round(100 * perf[perf[metric].apply(lambda x: x[0][0] > 0)][metric].apply(lambda x: x[0][0]).mean()\n",
    "      / mean_perf['mean '+metric+' (users with ANY optimal alg)'].max() -100, 2), '%')"
   ]
  },
  {
   "cell_type": "code",
   "execution_count": 16,
   "metadata": {},
   "outputs": [
    {
     "name": "stdout",
     "output_type": "stream",
     "text": [
      "All users - mean NDCG@100 :\n",
      "---------------------------------------------------------------\n",
      "Teoretical maximum that can be achieved with perfect classifier: 0.1231295685177449\n",
      "Baseline - best single algorithm:  0.05653548665940356\n",
      "Possible relative improvement:  117.79 %\n"
     ]
    }
   ],
   "source": [
    "print('All users - mean', metric, ':')\n",
    "print('---------------------------------------------------------------')\n",
    "\n",
    "print('Teoretical maximum that can be achieved with perfect classifier:',\n",
    "    perf[metric].apply(lambda x: x[0][0]).mean())\n",
    "\n",
    "print('Baseline - best single algorithm: ',\n",
    "      mean_perf['mean '+metric+' (all users)'].max())\n",
    "\n",
    "print('Possible relative improvement: ', round(100 * perf[metric].apply(lambda x: x[0][0]).mean()\n",
    "      / mean_perf['mean '+metric+' (all users)'].max() -100, 2), '%')"
   ]
  },
  {
   "cell_type": "markdown",
   "metadata": {},
   "source": [
    "### 2.2 MRR@100"
   ]
  },
  {
   "cell_type": "code",
   "execution_count": 17,
   "metadata": {},
   "outputs": [
    {
     "data": {
      "text/plain": [
       "49154"
      ]
     },
     "execution_count": 17,
     "metadata": {},
     "output_type": "execute_result"
    }
   ],
   "source": [
    "# how many users have optimal algorithm\n",
    "metric = 'RR@100'\n",
    "perf[metric].apply(lambda x: x[0][0] > 0).value_counts()[True]"
   ]
  },
  {
   "cell_type": "code",
   "execution_count": 18,
   "metadata": {},
   "outputs": [
    {
     "data": {
      "text/plain": [
       "[]"
      ]
     },
     "execution_count": 18,
     "metadata": {},
     "output_type": "execute_result"
    },
    {
     "data": {
      "image/png": "[encoded data removed]",
      "text/plain": [
       "<Figure size 864x288 with 1 Axes>"
      ]
     },
     "metadata": {
      "needs_background": "light"
     },
     "output_type": "display_data"
    }
   ],
   "source": [
    "ax = perf[perf[metric].apply(lambda x: x[0][0] > 0)][metric].apply(lambda x: x[0][1]).value_counts().plot(kind='bar')\n",
    "plt.title('Distribution of users by optimal algorithm (' + metric + ')')\n",
    "for p in ax.patches:\n",
    "    width, height = p.get_width(), p.get_height()\n",
    "    x, y = p.get_xy() \n",
    "    ax.annotate(str(height) + ' (' + str(int(round(100*height/perf[metric].apply(lambda x: x[0][0] > 0).value_counts()[True])))\n",
    "                + '%)', (x + width/2, y + height + 10.14), ha='center')\n",
    "plt.plot()"
   ]
  },
  {
   "cell_type": "code",
   "execution_count": 19,
   "metadata": {},
   "outputs": [
    {
     "data": {
      "text/plain": [
       "False    46267\n",
       "True      2887\n",
       "Name: RR@100, dtype: int64"
      ]
     },
     "execution_count": 19,
     "metadata": {},
     "output_type": "execute_result"
    }
   ],
   "source": [
    "# how many users have multiple top performing algorithms (issue not considered in above chart)\n",
    "perf[perf[metric].apply(lambda x: x[0][0] > 0)][metric].apply(lambda x: x[0][0] == x[1][0]).value_counts()"
   ]
  },
  {
   "cell_type": "code",
   "execution_count": 20,
   "metadata": {
    "scrolled": false
   },
   "outputs": [
    {
     "data": {
      "text/html": [
       "<div>\n",
       "<style scoped>\n",
       "    .dataframe tbody tr th:only-of-type {\n",
       "        vertical-align: middle;\n",
       "    }\n",
       "\n",
       "    .dataframe tbody tr th {\n",
       "        vertical-align: top;\n",
       "    }\n",
       "\n",
       "    .dataframe thead th {\n",
       "        text-align: right;\n",
       "    }\n",
       "</style>\n",
       "<table border=\"1\" class=\"dataframe\">\n",
       "  <thead>\n",
       "    <tr style=\"text-align: right;\">\n",
       "      <th></th>\n",
       "      <th>algorithm</th>\n",
       "      <th>count of users with nonzero RR@100</th>\n",
       "      <th>mean RR@100 (all users)</th>\n",
       "      <th>mean RR@100 (users with ANY optimal alg)</th>\n",
       "      <th>mean RR@100 (users with THIS optimal alg)</th>\n",
       "    </tr>\n",
       "  </thead>\n",
       "  <tbody>\n",
       "    <tr>\n",
       "      <th>4</th>\n",
       "      <td>bpr</td>\n",
       "      <td>26924</td>\n",
       "      <td>0.057585</td>\n",
       "      <td>0.101739</td>\n",
       "      <td>0.234925</td>\n",
       "    </tr>\n",
       "    <tr>\n",
       "      <th>1</th>\n",
       "      <td>itemknn</td>\n",
       "      <td>24262</td>\n",
       "      <td>0.050616</td>\n",
       "      <td>0.089427</td>\n",
       "      <td>0.351501</td>\n",
       "    </tr>\n",
       "    <tr>\n",
       "      <th>3</th>\n",
       "      <td>als</td>\n",
       "      <td>27034</td>\n",
       "      <td>0.048804</td>\n",
       "      <td>0.086225</td>\n",
       "      <td>0.230003</td>\n",
       "    </tr>\n",
       "    <tr>\n",
       "      <th>0</th>\n",
       "      <td>popular</td>\n",
       "      <td>26285</td>\n",
       "      <td>0.040096</td>\n",
       "      <td>0.070841</td>\n",
       "      <td>0.218849</td>\n",
       "    </tr>\n",
       "    <tr>\n",
       "      <th>2</th>\n",
       "      <td>userknn</td>\n",
       "      <td>21699</td>\n",
       "      <td>0.031236</td>\n",
       "      <td>0.055187</td>\n",
       "      <td>0.263680</td>\n",
       "    </tr>\n",
       "  </tbody>\n",
       "</table>\n",
       "</div>"
      ],
      "text/plain": [
       "  algorithm  count of users with nonzero RR@100  mean RR@100 (all users)  \\\n",
       "4       bpr                               26924                 0.057585   \n",
       "1   itemknn                               24262                 0.050616   \n",
       "3       als                               27034                 0.048804   \n",
       "0   popular                               26285                 0.040096   \n",
       "2   userknn                               21699                 0.031236   \n",
       "\n",
       "   mean RR@100 (users with ANY optimal alg)  \\\n",
       "4                                  0.101739   \n",
       "1                                  0.089427   \n",
       "3                                  0.086225   \n",
       "0                                  0.070841   \n",
       "2                                  0.055187   \n",
       "\n",
       "   mean RR@100 (users with THIS optimal alg)  \n",
       "4                                   0.234925  \n",
       "1                                   0.351501  \n",
       "3                                   0.230003  \n",
       "0                                   0.218849  \n",
       "2                                   0.263680  "
      ]
     },
     "execution_count": 20,
     "metadata": {},
     "output_type": "execute_result"
    }
   ],
   "source": [
    "# average performance of algorithms (only users with optimal algorithm)\n",
    "mean_perf = []\n",
    "for alg in alg_list:\n",
    "    mean_perf.append({\n",
    "        'algorithm': alg,\n",
    "        'count of users with nonzero '+metric: perf[perf[metric].apply(lambda x: x[0][0] > 0)][metric]\\\n",
    "                    .apply(lambda x: len([1 for a in x if a[0] > 0 and a[1] == alg])).sum(),\n",
    "        'mean '+metric+' (users with THIS optimal alg)': perf[perf[metric]\\\n",
    "                    .apply(lambda x: x[0][0] > 0 and x[0][1] == alg)][metric].apply(lambda x: x[0][0]).mean(),\n",
    "        'mean '+metric+' (users with ANY optimal alg)': perf[perf[metric].apply(lambda x: x[0][0] > 0)][metric]\\\n",
    "                    .apply(lambda x: [a for a in x if a[1] == alg][0][0]).mean(),\n",
    "        'mean '+metric+' (all users)': perf[metric]\\\n",
    "                    .apply(lambda x: [a for a in x if a[1] == alg][0][0]).mean()\n",
    "        })\n",
    "    \n",
    "mean_perf = pd.DataFrame(mean_perf).sort_values(by='mean '+metric+' (all users)', ascending=False)\n",
    "mean_perf"
   ]
  },
  {
   "cell_type": "code",
   "execution_count": 21,
   "metadata": {},
   "outputs": [
    {
     "name": "stdout",
     "output_type": "stream",
     "text": [
      "Users with ANY optimal alg - mean RR@100 :\n",
      "---------------------------------------------------------------\n",
      "Teoretical maximum that can be achieved with perfect classifier: 0.25203684485921796\n",
      "Baseline - best single algorithm:  0.1017394415044024\n",
      "Possible relative improvement:  147.73 %\n"
     ]
    }
   ],
   "source": [
    "print('Users with ANY optimal alg - mean', metric, ':')\n",
    "print('---------------------------------------------------------------')\n",
    "\n",
    "print('Teoretical maximum that can be achieved with perfect classifier:',\n",
    "    perf[perf[metric].apply(lambda x: x[0][0] > 0)][metric].apply(lambda x: x[0][0]).mean())\n",
    "\n",
    "print('Baseline - best single algorithm: ',\n",
    "      mean_perf['mean '+metric+' (users with ANY optimal alg)'].max())\n",
    "\n",
    "print('Possible relative improvement: ', round(100 * perf[perf[metric].apply(lambda x: x[0][0] > 0)][metric].apply(lambda x: x[0][0]).mean()\n",
    "      / mean_perf['mean '+metric+' (users with ANY optimal alg)'].max() -100, 2), '%')"
   ]
  },
  {
   "cell_type": "code",
   "execution_count": 22,
   "metadata": {},
   "outputs": [
    {
     "name": "stdout",
     "output_type": "stream",
     "text": [
      "All users - mean RR@100 :\n",
      "---------------------------------------------------------------\n",
      "Teoretical maximum that can be achieved with perfect classifier: 0.14265371323534154\n",
      "Baseline - best single algorithm:  0.05758487066127073\n",
      "Possible relative improvement:  147.73 %\n"
     ]
    }
   ],
   "source": [
    "print('All users - mean', metric, ':')\n",
    "print('---------------------------------------------------------------')\n",
    "\n",
    "print('Teoretical maximum that can be achieved with perfect classifier:',\n",
    "    perf[metric].apply(lambda x: x[0][0]).mean())\n",
    "\n",
    "print('Baseline - best single algorithm: ',\n",
    "      mean_perf['mean '+metric+' (all users)'].max())\n",
    "\n",
    "print('Possible relative improvement: ', round(100 * perf[metric].apply(lambda x: x[0][0]).mean()\n",
    "      / mean_perf['mean '+metric+' (all users)'].max() -100, 2), '%')"
   ]
  },
  {
   "cell_type": "markdown",
   "metadata": {},
   "source": [
    "### 2.3 P@10"
   ]
  },
  {
   "cell_type": "code",
   "execution_count": 23,
   "metadata": {},
   "outputs": [
    {
     "data": {
      "text/plain": [
       "24805"
      ]
     },
     "execution_count": 23,
     "metadata": {},
     "output_type": "execute_result"
    }
   ],
   "source": [
    "# how many users have optimal algorithm\n",
    "metric = 'P@10'\n",
    "perf[metric].apply(lambda x: x[0][0] > 0).value_counts()[True]"
   ]
  },
  {
   "cell_type": "code",
   "execution_count": 24,
   "metadata": {},
   "outputs": [
    {
     "data": {
      "text/plain": [
       "[]"
      ]
     },
     "execution_count": 24,
     "metadata": {},
     "output_type": "execute_result"
    },
    {
     "data": {
      "image/png": "[encoded data removed]",
      "text/plain": [
       "<Figure size 864x288 with 1 Axes>"
      ]
     },
     "metadata": {
      "needs_background": "light"
     },
     "output_type": "display_data"
    }
   ],
   "source": [
    "ax = perf[perf[metric].apply(lambda x: x[0][0] > 0)][metric].apply(lambda x: x[0][1]).value_counts().plot(kind='bar')\n",
    "plt.title('Distribution of users by optimal algorithm (' + metric + ')')\n",
    "for p in ax.patches:\n",
    "    width, height = p.get_width(), p.get_height()\n",
    "    x, y = p.get_xy() \n",
    "    ax.annotate(str(height) + ' (' + str(int(round(100*height/perf[metric].apply(lambda x: x[0][0] > 0).value_counts()[True])))\n",
    "                + '%)', (x + width/2, y + height + 3.14), ha='center')\n",
    "plt.plot()"
   ]
  },
  {
   "cell_type": "code",
   "execution_count": 25,
   "metadata": {},
   "outputs": [
    {
     "data": {
      "text/plain": [
       "False    16400\n",
       "True      8405\n",
       "Name: P@10, dtype: int64"
      ]
     },
     "execution_count": 25,
     "metadata": {},
     "output_type": "execute_result"
    }
   ],
   "source": [
    "# how many users have multiple top performing algorithms (issue not considered in above chart)\n",
    "perf[perf[metric].apply(lambda x: x[0][0] > 0)][metric].apply(lambda x: x[0][0] == x[1][0]).value_counts()"
   ]
  },
  {
   "cell_type": "code",
   "execution_count": 26,
   "metadata": {
    "scrolled": false
   },
   "outputs": [
    {
     "data": {
      "text/html": [
       "<div>\n",
       "<style scoped>\n",
       "    .dataframe tbody tr th:only-of-type {\n",
       "        vertical-align: middle;\n",
       "    }\n",
       "\n",
       "    .dataframe tbody tr th {\n",
       "        vertical-align: top;\n",
       "    }\n",
       "\n",
       "    .dataframe thead th {\n",
       "        text-align: right;\n",
       "    }\n",
       "</style>\n",
       "<table border=\"1\" class=\"dataframe\">\n",
       "  <thead>\n",
       "    <tr style=\"text-align: right;\">\n",
       "      <th></th>\n",
       "      <th>algorithm</th>\n",
       "      <th>count of users with nonzero P@10</th>\n",
       "      <th>mean P@10 (all users)</th>\n",
       "      <th>mean P@10 (users with ANY optimal alg)</th>\n",
       "      <th>mean P@10 (users with THIS optimal alg)</th>\n",
       "    </tr>\n",
       "  </thead>\n",
       "  <tbody>\n",
       "    <tr>\n",
       "      <th>4</th>\n",
       "      <td>bpr</td>\n",
       "      <td>10417</td>\n",
       "      <td>0.015641</td>\n",
       "      <td>0.054759</td>\n",
       "      <td>0.145077</td>\n",
       "    </tr>\n",
       "    <tr>\n",
       "      <th>1</th>\n",
       "      <td>itemknn</td>\n",
       "      <td>9267</td>\n",
       "      <td>0.013685</td>\n",
       "      <td>0.047914</td>\n",
       "      <td>0.137573</td>\n",
       "    </tr>\n",
       "    <tr>\n",
       "      <th>3</th>\n",
       "      <td>als</td>\n",
       "      <td>9109</td>\n",
       "      <td>0.013189</td>\n",
       "      <td>0.046176</td>\n",
       "      <td>0.137380</td>\n",
       "    </tr>\n",
       "    <tr>\n",
       "      <th>0</th>\n",
       "      <td>popular</td>\n",
       "      <td>7597</td>\n",
       "      <td>0.009894</td>\n",
       "      <td>0.034638</td>\n",
       "      <td>0.114687</td>\n",
       "    </tr>\n",
       "    <tr>\n",
       "      <th>2</th>\n",
       "      <td>userknn</td>\n",
       "      <td>6320</td>\n",
       "      <td>0.008414</td>\n",
       "      <td>0.029458</td>\n",
       "      <td>0.115488</td>\n",
       "    </tr>\n",
       "  </tbody>\n",
       "</table>\n",
       "</div>"
      ],
      "text/plain": [
       "  algorithm  count of users with nonzero P@10  mean P@10 (all users)  \\\n",
       "4       bpr                             10417               0.015641   \n",
       "1   itemknn                              9267               0.013685   \n",
       "3       als                              9109               0.013189   \n",
       "0   popular                              7597               0.009894   \n",
       "2   userknn                              6320               0.008414   \n",
       "\n",
       "   mean P@10 (users with ANY optimal alg)  \\\n",
       "4                                0.054759   \n",
       "1                                0.047914   \n",
       "3                                0.046176   \n",
       "0                                0.034638   \n",
       "2                                0.029458   \n",
       "\n",
       "   mean P@10 (users with THIS optimal alg)  \n",
       "4                                 0.145077  \n",
       "1                                 0.137573  \n",
       "3                                 0.137380  \n",
       "0                                 0.114687  \n",
       "2                                 0.115488  "
      ]
     },
     "execution_count": 26,
     "metadata": {},
     "output_type": "execute_result"
    }
   ],
   "source": [
    "# average performance of algorithms (only users with optimal algorithm)\n",
    "mean_perf = []\n",
    "for alg in alg_list:\n",
    "    mean_perf.append({\n",
    "        'algorithm': alg,\n",
    "        'count of users with nonzero '+metric: perf[perf[metric].apply(lambda x: x[0][0] > 0)][metric]\\\n",
    "                    .apply(lambda x: len([1 for a in x if a[0] > 0 and a[1] == alg])).sum(),\n",
    "        'mean '+metric+' (users with THIS optimal alg)': perf[perf[metric]\\\n",
    "                    .apply(lambda x: x[0][0] > 0 and x[0][1] == alg)][metric].apply(lambda x: x[0][0]).mean(),\n",
    "        'mean '+metric+' (users with ANY optimal alg)': perf[perf[metric].apply(lambda x: x[0][0] > 0)][metric]\\\n",
    "                    .apply(lambda x: [a for a in x if a[1] == alg][0][0]).mean(),\n",
    "        'mean '+metric+' (all users)': perf[metric]\\\n",
    "                    .apply(lambda x: [a for a in x if a[1] == alg][0][0]).mean()\n",
    "        })\n",
    "    \n",
    "mean_perf = pd.DataFrame(mean_perf).sort_values(by='mean '+metric+' (all users)', ascending=False)\n",
    "mean_perf"
   ]
  },
  {
   "cell_type": "code",
   "execution_count": 27,
   "metadata": {},
   "outputs": [
    {
     "name": "stdout",
     "output_type": "stream",
     "text": [
      "Users with ANY optimal alg - mean P@10 :\n",
      "---------------------------------------------------------------\n",
      "Teoretical maximum that can be achieved with perfect classifier: 0.12901834307594356\n",
      "Baseline - best single algorithm:  0.05475912114492833\n",
      "Possible relative improvement:  135.61 %\n"
     ]
    }
   ],
   "source": [
    "print('Users with ANY optimal alg - mean', metric, ':')\n",
    "print('---------------------------------------------------------------')\n",
    "\n",
    "print('Teoretical maximum that can be achieved with perfect classifier:',\n",
    "    perf[perf[metric].apply(lambda x: x[0][0] > 0)][metric].apply(lambda x: x[0][0]).mean())\n",
    "\n",
    "print('Baseline - best single algorithm: ',\n",
    "      mean_perf['mean '+metric+' (users with ANY optimal alg)'].max())\n",
    "\n",
    "print('Possible relative improvement: ', round(100 * perf[perf[metric].apply(lambda x: x[0][0] > 0)][metric].apply(lambda x: x[0][0]).mean()\n",
    "      / mean_perf['mean '+metric+' (users with ANY optimal alg)'].max() -100, 2), '%')"
   ]
  },
  {
   "cell_type": "code",
   "execution_count": 28,
   "metadata": {},
   "outputs": [
    {
     "name": "stdout",
     "output_type": "stream",
     "text": [
      "All users - mean P@10 :\n",
      "---------------------------------------------------------------\n",
      "Teoretical maximum that can be achieved with perfect classifier: 0.03685113536915366\n",
      "Baseline - best single algorithm:  0.015640689051632205\n",
      "Possible relative improvement:  135.61 %\n"
     ]
    }
   ],
   "source": [
    "print('All users - mean', metric, ':')\n",
    "print('---------------------------------------------------------------')\n",
    "\n",
    "print('Teoretical maximum that can be achieved with perfect classifier:',\n",
    "    perf[metric].apply(lambda x: x[0][0]).mean())\n",
    "\n",
    "print('Baseline - best single algorithm: ',\n",
    "      mean_perf['mean '+metric+' (all users)'].max())\n",
    "\n",
    "print('Possible relative improvement: ', round(100 * perf[metric].apply(lambda x: x[0][0]).mean()\n",
    "      / mean_perf['mean '+metric+' (all users)'].max() -100, 2), '%')"
   ]
  },
  {
   "cell_type": "markdown",
   "metadata": {},
   "source": [
    "### 2.4 R@10"
   ]
  },
  {
   "cell_type": "code",
   "execution_count": 29,
   "metadata": {},
   "outputs": [
    {
     "data": {
      "text/plain": [
       "24805"
      ]
     },
     "execution_count": 29,
     "metadata": {},
     "output_type": "execute_result"
    }
   ],
   "source": [
    "# how many users have optimal algorithm\n",
    "metric = 'R@10'\n",
    "perf[metric].apply(lambda x: x[0][0] > 0).value_counts()[True]"
   ]
  },
  {
   "cell_type": "code",
   "execution_count": 30,
   "metadata": {},
   "outputs": [
    {
     "data": {
      "text/plain": [
       "[]"
      ]
     },
     "execution_count": 30,
     "metadata": {},
     "output_type": "execute_result"
    },
    {
     "data": {
      "image/png": "[encoded data removed]",
      "text/plain": [
       "<Figure size 864x288 with 1 Axes>"
      ]
     },
     "metadata": {
      "needs_background": "light"
     },
     "output_type": "display_data"
    }
   ],
   "source": [
    "ax = perf[perf[metric].apply(lambda x: x[0][0] > 0)][metric].apply(lambda x: x[0][1]).value_counts().plot(kind='bar')\n",
    "plt.title('Distribution of users by optimal algorithm (' + metric + ')')\n",
    "for p in ax.patches:\n",
    "    width, height = p.get_width(), p.get_height()\n",
    "    x, y = p.get_xy() \n",
    "    ax.annotate(str(height) + ' (' + str(int(round(100*height/perf[metric].apply(lambda x: x[0][0] > 0).value_counts()[True])))\n",
    "                + '%)', (x + width/2, y + height + 3.14), ha='center')\n",
    "plt.plot()"
   ]
  },
  {
   "cell_type": "code",
   "execution_count": 31,
   "metadata": {},
   "outputs": [
    {
     "data": {
      "text/plain": [
       "False    16400\n",
       "True      8405\n",
       "Name: R@10, dtype: int64"
      ]
     },
     "execution_count": 31,
     "metadata": {},
     "output_type": "execute_result"
    }
   ],
   "source": [
    "# how many users have multiple top performing algorithms (issue not considered in above chart)\n",
    "perf[perf[metric].apply(lambda x: x[0][0] > 0)][metric].apply(lambda x: x[0][0] == x[1][0]).value_counts()"
   ]
  },
  {
   "cell_type": "code",
   "execution_count": 32,
   "metadata": {
    "scrolled": false
   },
   "outputs": [
    {
     "data": {
      "text/html": [
       "<div>\n",
       "<style scoped>\n",
       "    .dataframe tbody tr th:only-of-type {\n",
       "        vertical-align: middle;\n",
       "    }\n",
       "\n",
       "    .dataframe tbody tr th {\n",
       "        vertical-align: top;\n",
       "    }\n",
       "\n",
       "    .dataframe thead th {\n",
       "        text-align: right;\n",
       "    }\n",
       "</style>\n",
       "<table border=\"1\" class=\"dataframe\">\n",
       "  <thead>\n",
       "    <tr style=\"text-align: right;\">\n",
       "      <th></th>\n",
       "      <th>algorithm</th>\n",
       "      <th>count of users with nonzero R@10</th>\n",
       "      <th>mean R@10 (all users)</th>\n",
       "      <th>mean R@10 (users with ANY optimal alg)</th>\n",
       "      <th>mean R@10 (users with THIS optimal alg)</th>\n",
       "    </tr>\n",
       "  </thead>\n",
       "  <tbody>\n",
       "    <tr>\n",
       "      <th>4</th>\n",
       "      <td>bpr</td>\n",
       "      <td>10417</td>\n",
       "      <td>0.041299</td>\n",
       "      <td>0.144591</td>\n",
       "      <td>0.289642</td>\n",
       "    </tr>\n",
       "    <tr>\n",
       "      <th>1</th>\n",
       "      <td>itemknn</td>\n",
       "      <td>9267</td>\n",
       "      <td>0.040653</td>\n",
       "      <td>0.142329</td>\n",
       "      <td>0.392715</td>\n",
       "    </tr>\n",
       "    <tr>\n",
       "      <th>0</th>\n",
       "      <td>popular</td>\n",
       "      <td>7597</td>\n",
       "      <td>0.036831</td>\n",
       "      <td>0.128948</td>\n",
       "      <td>0.454138</td>\n",
       "    </tr>\n",
       "    <tr>\n",
       "      <th>3</th>\n",
       "      <td>als</td>\n",
       "      <td>9109</td>\n",
       "      <td>0.033645</td>\n",
       "      <td>0.117795</td>\n",
       "      <td>0.334322</td>\n",
       "    </tr>\n",
       "    <tr>\n",
       "      <th>2</th>\n",
       "      <td>userknn</td>\n",
       "      <td>6320</td>\n",
       "      <td>0.024579</td>\n",
       "      <td>0.086054</td>\n",
       "      <td>0.392379</td>\n",
       "    </tr>\n",
       "  </tbody>\n",
       "</table>\n",
       "</div>"
      ],
      "text/plain": [
       "  algorithm  count of users with nonzero R@10  mean R@10 (all users)  \\\n",
       "4       bpr                             10417               0.041299   \n",
       "1   itemknn                              9267               0.040653   \n",
       "0   popular                              7597               0.036831   \n",
       "3       als                              9109               0.033645   \n",
       "2   userknn                              6320               0.024579   \n",
       "\n",
       "   mean R@10 (users with ANY optimal alg)  \\\n",
       "4                                0.144591   \n",
       "1                                0.142329   \n",
       "0                                0.128948   \n",
       "3                                0.117795   \n",
       "2                                0.086054   \n",
       "\n",
       "   mean R@10 (users with THIS optimal alg)  \n",
       "4                                 0.289642  \n",
       "1                                 0.392715  \n",
       "0                                 0.454138  \n",
       "3                                 0.334322  \n",
       "2                                 0.392379  "
      ]
     },
     "execution_count": 32,
     "metadata": {},
     "output_type": "execute_result"
    }
   ],
   "source": [
    "# average performance of algorithms (only users with optimal algorithm)\n",
    "mean_perf = []\n",
    "for alg in alg_list:\n",
    "    mean_perf.append({\n",
    "        'algorithm': alg,\n",
    "        'count of users with nonzero '+metric: perf[perf[metric].apply(lambda x: x[0][0] > 0)][metric]\\\n",
    "                    .apply(lambda x: len([1 for a in x if a[0] > 0 and a[1] == alg])).sum(),\n",
    "        'mean '+metric+' (users with THIS optimal alg)': perf[perf[metric]\\\n",
    "                    .apply(lambda x: x[0][0] > 0 and x[0][1] == alg)][metric].apply(lambda x: x[0][0]).mean(),\n",
    "        'mean '+metric+' (users with ANY optimal alg)': perf[perf[metric].apply(lambda x: x[0][0] > 0)][metric]\\\n",
    "                    .apply(lambda x: [a for a in x if a[1] == alg][0][0]).mean(),\n",
    "        'mean '+metric+' (all users)': perf[metric]\\\n",
    "                    .apply(lambda x: [a for a in x if a[1] == alg][0][0]).mean()\n",
    "        })\n",
    "    \n",
    "mean_perf = pd.DataFrame(mean_perf).sort_values(by='mean '+metric+' (all users)', ascending=False)\n",
    "mean_perf"
   ]
  },
  {
   "cell_type": "code",
   "execution_count": 33,
   "metadata": {},
   "outputs": [
    {
     "name": "stdout",
     "output_type": "stream",
     "text": [
      "Users with ANY optimal alg - mean R@10 :\n",
      "---------------------------------------------------------------\n",
      "Teoretical maximum that can be achieved with perfect classifier: 0.379658627637859\n",
      "Baseline - best single algorithm:  0.1445912868987824\n",
      "Possible relative improvement:  162.57 %\n"
     ]
    }
   ],
   "source": [
    "print('Users with ANY optimal alg - mean', metric, ':')\n",
    "print('---------------------------------------------------------------')\n",
    "\n",
    "print('Teoretical maximum that can be achieved with perfect classifier:',\n",
    "    perf[perf[metric].apply(lambda x: x[0][0] > 0)][metric].apply(lambda x: x[0][0]).mean())\n",
    "\n",
    "print('Baseline - best single algorithm: ',\n",
    "      mean_perf['mean '+metric+' (users with ANY optimal alg)'].max())\n",
    "\n",
    "print('Possible relative improvement: ', round(100 * perf[perf[metric].apply(lambda x: x[0][0] > 0)][metric].apply(lambda x: x[0][0]).mean()\n",
    "      / mean_perf['mean '+metric+' (users with ANY optimal alg)'].max() -100, 2), '%')"
   ]
  },
  {
   "cell_type": "code",
   "execution_count": 34,
   "metadata": {},
   "outputs": [
    {
     "name": "stdout",
     "output_type": "stream",
     "text": [
      "All users - mean R@10 :\n",
      "---------------------------------------------------------------\n",
      "Teoretical maximum that can be achieved with perfect classifier: 0.10844079336001443\n",
      "Baseline - best single algorithm:  0.04129919017461537\n",
      "Possible relative improvement:  162.57 %\n"
     ]
    }
   ],
   "source": [
    "print('All users - mean', metric, ':')\n",
    "print('---------------------------------------------------------------')\n",
    "\n",
    "print('Teoretical maximum that can be achieved with perfect classifier:',\n",
    "    perf[metric].apply(lambda x: x[0][0]).mean())\n",
    "\n",
    "print('Baseline - best single algorithm: ',\n",
    "      mean_perf['mean '+metric+' (all users)'].max())\n",
    "\n",
    "print('Possible relative improvement: ', round(100 * perf[metric].apply(lambda x: x[0][0]).mean()\n",
    "      / mean_perf['mean '+metric+' (all users)'].max() -100, 2), '%')"
   ]
  },
  {
   "cell_type": "code",
   "execution_count": null,
   "metadata": {},
   "outputs": [],
   "source": []
  }
 ],
 "metadata": {
  "kernelspec": {
   "display_name": "Python 3.6",
   "language": "python",
   "name": "python3.6"
  },
  "language_info": {
   "codemirror_mode": {
    "name": "ipython",
    "version": 3
   },
   "file_extension": ".py",
   "mimetype": "text/x-python",
   "name": "python",
   "nbconvert_exporter": "python",
   "pygments_lexer": "ipython3",
   "version": "3.6.9"
  }
 },
 "nbformat": 4,
 "nbformat_minor": 2
}
